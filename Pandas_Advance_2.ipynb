{
  "nbformat": 4,
  "nbformat_minor": 0,
  "metadata": {
    "colab": {
      "provenance": [],
      "gpuType": "T4"
    },
    "kernelspec": {
      "name": "python3",
      "display_name": "Python 3"
    },
    "language_info": {
      "name": "python"
    },
    "accelerator": "GPU"
  },
  "cells": [
    {
      "cell_type": "code",
      "execution_count": null,
      "metadata": {
        "id": "qxyrZrm0acUf"
      },
      "outputs": [],
      "source": []
    },
    {
      "cell_type": "markdown",
      "source": [
        "Question 1 - ---------------------------------------------------------------------------------"
      ],
      "metadata": {
        "id": "uSCpZ8zta7-R"
      }
    },
    {
      "cell_type": "markdown",
      "source": [
        "\n",
        "You can use the .iloc[] method to access rows by their index. Since Python uses zero-based indexing, the second row would have an index of 1. Here's the code to print the data present in the second row of the dataframe df:"
      ],
      "metadata": {
        "id": "XBZnsoRDaqMP"
      }
    },
    {
      "cell_type": "code",
      "source": [
        "import pandas as pd\n",
        "\n",
        "course_name = ['Data Science', 'Machine Learning', 'Big Data', 'Data Engineer']\n",
        "duration = [2, 3, 6, 4]\n",
        "\n",
        "df = pd.DataFrame(data={'course_name': course_name, 'duration': duration})\n",
        "\n",
        "# Print data present in the second row\n",
        "print(df.iloc[1])\n"
      ],
      "metadata": {
        "id": "v8CpPnkfarNZ"
      },
      "execution_count": null,
      "outputs": []
    },
    {
      "cell_type": "markdown",
      "source": [
        "Question 2 -------------------------------------------------------------------------------------------------"
      ],
      "metadata": {
        "id": "uYsiB880bGzB"
      }
    },
    {
      "cell_type": "code",
      "source": [
        "\n",
        "In Pandas, both loc and iloc are used for accessing data in a DataFrame, but they have different ways of doing so:\n",
        "\n",
        "loc: This function is primarily label-based. It is used for selecting data based on the labels of the rows and columns. When using loc, you specify the row labels and column labels explicitly.\n",
        "\n",
        "Syntax: df.loc[row_label, column_label]\n",
        "\n",
        "Example: df.loc[1, 'duration']\n",
        "\n",
        "iloc: This function is integer-based. It is used for selecting data based on the integer index of the rows and columns. When using iloc, you specify the row index and column index explicitly.\n",
        "\n",
        "Syntax: df.iloc[row_index, column_index]\n",
        "\n",
        "Example: df.iloc[1, 1]\n",
        "\n",
        "In summary, the main difference between loc and iloc is in how they interpret the arguments you provide:\n",
        "\n",
        "loc uses the labels of rows and columns.\n",
        "iloc uses the integer indices of rows and columns.\n",
        "So, while loc allows you to access data using labels, iloc allows you to access data using integer indices."
      ],
      "metadata": {
        "colab": {
          "base_uri": "https://localhost:8080/",
          "height": 140
        },
        "id": "mPBPjCH_begX",
        "outputId": "51ada671-7d00-44c1-9007-a4dccb925956"
      },
      "execution_count": 2,
      "outputs": [
        {
          "output_type": "error",
          "ename": "SyntaxError",
          "evalue": "invalid syntax (<ipython-input-2-5514398d12cb>, line 1)",
          "traceback": [
            "\u001b[0;36m  File \u001b[0;32m\"<ipython-input-2-5514398d12cb>\"\u001b[0;36m, line \u001b[0;32m1\u001b[0m\n\u001b[0;31m    In Pandas, both loc and iloc are used for accessing data in a DataFrame, but they have different ways of doing so:\u001b[0m\n\u001b[0m       ^\u001b[0m\n\u001b[0;31mSyntaxError\u001b[0m\u001b[0;31m:\u001b[0m invalid syntax\n"
          ]
        }
      ]
    },
    {
      "cell_type": "code",
      "source": [],
      "metadata": {
        "id": "RvW3h28RcJc6"
      },
      "execution_count": null,
      "outputs": []
    },
    {
      "cell_type": "markdown",
      "source": [
        "Q3. Reindexing the DataFrame and accessing elements with loc and iloc:"
      ],
      "metadata": {
        "id": "dcp7gmOYcKL5"
      }
    },
    {
      "cell_type": "code",
      "source": [
        "import pandas as pd\n",
        "import numpy as np\n",
        "\n",
        "# Given DataFrame\n",
        "columns = ['column_1', 'column_2', 'column_3', 'column_4', 'column_5', 'column_6']\n",
        "indices = [1, 2, 3, 4, 5, 6]\n",
        "df1 = pd.DataFrame(np.random.rand(6, 6), columns=columns, index=indices)\n",
        "\n",
        "# Reindexing\n",
        "reindex = [3, 0, 1, 2]\n",
        "new_df = df1.reindex(reindex)\n",
        "\n",
        "# Accessing elements\n",
        "print(new_df.loc[2])   # Output using loc\n",
        "print(new_df.iloc[2])  # Output using iloc\n"
      ],
      "metadata": {
        "id": "BPRnUM-GcOG-"
      },
      "execution_count": null,
      "outputs": []
    },
    {
      "cell_type": "markdown",
      "source": [
        "Q4. Statistical measurements for the DataFrame:"
      ],
      "metadata": {
        "id": "WMAIsAeicg2Q"
      }
    },
    {
      "cell_type": "code",
      "source": [
        "# (i) Mean of each column\n",
        "mean_values = df1.mean()\n",
        "print(\"Mean of each column:\")\n",
        "print(mean_values)\n",
        "\n",
        "# (ii) Standard deviation of column 'column_2'\n",
        "std_dev_column_2 = df1['column_2'].std()\n",
        "print(\"\\nStandard deviation of column 'column_2':\", std_dev_column_2)\n"
      ],
      "metadata": {
        "id": "SIj9aPs7ciHI"
      },
      "execution_count": null,
      "outputs": []
    },
    {
      "cell_type": "code",
      "source": [],
      "metadata": {
        "id": "-fA-5hPnbi3i"
      },
      "execution_count": 4,
      "outputs": []
    },
    {
      "cell_type": "markdown",
      "source": [
        "Q5. Replacing data in the second row of column 'column_2' with a string and finding the mean:"
      ],
      "metadata": {
        "id": "GsYLXZRzcs4a"
      }
    },
    {
      "cell_type": "code",
      "source": [
        "# Replace the data in the second row of column 'column_2' with a string variable\n",
        "df1.loc[2, 'column_2'] = 'string_data'\n",
        "\n",
        "# Attempting to find the mean of column 'column_2'\n",
        "# This will result in an error because you cannot calculate the mean of a column containing string data.\n",
        "# It expects numeric data for calculations.\n",
        ""
      ],
      "metadata": {
        "id": "EF7jZ83dbzKv"
      },
      "execution_count": null,
      "outputs": []
    },
    {
      "cell_type": "code",
      "source": [
        "Q6. Understanding Windows Function in Pandas:\n",
        "Windows functions in pandas operate on a set of data points and produce a single value as an output. They are typically used for calculations like rolling averages,\n",
        " cumulative sums, etc. Types of window functions include rolling, expanding, and exponential moving functions."
      ],
      "metadata": {
        "colab": {
          "base_uri": "https://localhost:8080/",
          "height": 140
        },
        "id": "py0DWcUUdGlB",
        "outputId": "628ae5f5-ed7b-4794-ee1e-b5b52d1a9a32"
      },
      "execution_count": 6,
      "outputs": [
        {
          "output_type": "error",
          "ename": "SyntaxError",
          "evalue": "invalid syntax (<ipython-input-6-f6b45708c5c2>, line 1)",
          "traceback": [
            "\u001b[0;36m  File \u001b[0;32m\"<ipython-input-6-f6b45708c5c2>\"\u001b[0;36m, line \u001b[0;32m1\u001b[0m\n\u001b[0;31m    Q6. Understanding Windows Function in Pandas:\u001b[0m\n\u001b[0m                      ^\u001b[0m\n\u001b[0;31mSyntaxError\u001b[0m\u001b[0;31m:\u001b[0m invalid syntax\n"
          ]
        }
      ]
    },
    {
      "cell_type": "markdown",
      "source": [
        "Q7. Printing the current month and year:"
      ],
      "metadata": {
        "id": "TTmaoxI-dR3f"
      }
    },
    {
      "cell_type": "code",
      "source": [
        "import pandas as pd\n",
        "\n",
        "current_date = pd.Timestamp.now()\n",
        "print(\"Current month and year:\", current_date.strftime(\"%B %Y\"))\n"
      ],
      "metadata": {
        "id": "zGSgPmsFdUKz"
      },
      "execution_count": null,
      "outputs": []
    },
    {
      "cell_type": "markdown",
      "source": [
        "Q8. Calculating the difference between two dates:"
      ],
      "metadata": {
        "id": "z6v_1Szrd2yZ"
      }
    },
    {
      "cell_type": "code",
      "source": [
        "import pandas as pd\n",
        "\n",
        "# Taking input from the user\n",
        "date1 = input(\"Enter the first date (YYYY-MM-DD format): \")\n",
        "date2 = input(\"Enter the second date (YYYY-MM-DD format): \")\n",
        "\n",
        "# Converting input strings to datetime objects\n",
        "date1 = pd.to_datetime(date1)\n",
        "date2 = pd.to_datetime(date2)\n",
        "\n",
        "# Calculating the difference\n",
        "delta = date2 - date1\n",
        "\n",
        "# Displaying the result\n",
        "print(\"Difference:\")\n",
        "print(\"Days:\", delta.days)\n",
        "print(\"Hours:\", delta.seconds // 3600)\n",
        "print(\"Minutes:\", (delta.seconds // 60) % 60)\n"
      ],
      "metadata": {
        "id": "gfn_qeFYd9Uh"
      },
      "execution_count": null,
      "outputs": []
    },
    {
      "cell_type": "markdown",
      "source": [
        "Q9. Python program to convert a specified column to categorical data type:"
      ],
      "metadata": {
        "id": "Ah2MVGEbeYa-"
      }
    },
    {
      "cell_type": "code",
      "source": [
        "import pandas as pd\n",
        "\n",
        "# Prompting the user for file path, column name, and category order\n",
        "file_path = input(\"Enter the file path of the CSV file: \")\n",
        "column_name = input(\"Enter the column name to convert to categorical data type: \")\n",
        "category_order = input(\"Enter the category order (comma-separated): \").split(',')\n",
        "\n",
        "# Reading the CSV file into a DataFrame\n",
        "df = pd.read_csv(file_path)\n",
        "\n",
        "# Converting the specified column to categorical data type\n",
        "df[column_name] = pd.Categorical(df[column_name], categories=category_order, ordered=True)\n",
        "\n",
        "# Displaying the sorted data\n",
        "sorted_data = df.sort_values(by=column_name)\n",
        "print(sorted_data)\n"
      ],
      "metadata": {
        "colab": {
          "base_uri": "https://localhost:8080/"
        },
        "id": "1lCmAk5yd_ND",
        "outputId": "a7551ba7-a454-4f4c-eb9b-c9c211330c0f"
      },
      "execution_count": null,
      "outputs": [
        {
          "name": "stdout",
          "output_type": "stream",
          "text": [
            "Enter the file path of the CSV file: \n"
          ]
        }
      ]
    },
    {
      "cell_type": "code",
      "source": [],
      "metadata": {
        "id": "bQD74xrYea-7"
      },
      "execution_count": null,
      "outputs": []
    },
    {
      "cell_type": "markdown",
      "source": [
        "Q10. Python program to visualize sales data using a stacked bar chart:"
      ],
      "metadata": {
        "id": "51FZ_U7oed1P"
      }
    },
    {
      "cell_type": "code",
      "source": [
        "import pandas as pd\n",
        "import matplotlib.pyplot as plt\n",
        "\n",
        "# Prompting the user for the file path\n",
        "file_path = input(\"Enter the file path of the CSV file: \")\n",
        "\n",
        "# Reading the CSV file into a DataFrame\n",
        "df = pd.read_csv(file_path)\n",
        "\n",
        "# Visualizing the data using a stacked bar chart\n",
        "df.plot(kind='bar', stacked=True)\n",
        "plt.xlabel('Time')\n",
        "plt.ylabel('Sales')\n",
        "plt.title('Sales of Each Product Category Over Time')\n",
        "plt.show()\n"
      ],
      "metadata": {
        "id": "nVvW30ggeef6"
      },
      "execution_count": null,
      "outputs": []
    },
    {
      "cell_type": "code",
      "source": [],
      "metadata": {
        "id": "m1U_1PkXehyy"
      },
      "execution_count": null,
      "outputs": []
    },
    {
      "cell_type": "markdown",
      "source": [
        "Q11. Python program to calculate and display statistics of student test scores:"
      ],
      "metadata": {
        "id": "_WluF0Czek4S"
      }
    },
    {
      "cell_type": "code",
      "source": [
        "import pandas as pd\n",
        "\n",
        "# Prompting the user for the file path\n",
        "file_path = input(\"Enter the file path of the CSV file containing the student data: \")\n",
        "\n",
        "# Reading the CSV file into a DataFrame\n",
        "df = pd.read_csv(file_path)\n",
        "\n",
        "# Calculating mean, median, and mode of test scores\n",
        "mean_score = df['Test Score'].mean()\n",
        "median_score = df['Test Score'].median()\n",
        "mode_score = df['Test Score'].mode()\n",
        "\n",
        "# Displaying the results in a table\n",
        "print(\"+-----------+--------+\")\n",
        "print(\"| Statistic | Value  |\")\n",
        "print(\"+-----------+--------+\")\n",
        "print(f\"| Mean      | {mean_score:.1f} |\")\n",
        "print(f\"| Median    | {median_score}   |\")\n",
        "print(f\"| Mode      | {', '.join(map(str, mode_score.tolist()))} |\")\n",
        "print(\"+-----------+--------+\")\n"
      ],
      "metadata": {
        "id": "1pyIE1Wyelfj"
      },
      "execution_count": null,
      "outputs": []
    },
    {
      "cell_type": "code",
      "source": [],
      "metadata": {
        "id": "XcgGRBQaene_"
      },
      "execution_count": null,
      "outputs": []
    }
  ]
}