{
  "nbformat": 4,
  "nbformat_minor": 0,
  "metadata": {
    "colab": {
      "provenance": []
    },
    "kernelspec": {
      "name": "python3",
      "display_name": "Python 3"
    },
    "language_info": {
      "name": "python"
    }
  },
  "cells": [
    {
      "cell_type": "markdown",
      "source": [
        "Q1. List any five functions of the pandas library with execution:"
      ],
      "metadata": {
        "id": "iwjWJWkZje6L"
      }
    },
    {
      "cell_type": "code",
      "source": [
        "import pandas as pd\n",
        "import seaborn as sns\n",
        "data = sns.load_dataset('iris')\n",
        "\n",
        "# 1. read_csv(): Reads a CSV file into a DataFrame\n",
        "df = pd.DataFrame(data = data)\n",
        "\n",
        "# 2. head(): Returns the first n rows of the DataFrame\n",
        "print(df.head())\n",
        "\n",
        "# 3. describe(): Generates descriptive statistics of the DataFrame\n",
        "print(df.describe())\n",
        "\n",
        "# 4. dropna(): Drops rows with missing values\n",
        "df.dropna(inplace=True)\n",
        "\n",
        "# 5. groupby(): Groups the DataFrame using a mapper or by a Series of columns\n",
        "grouped_df = df.groupby('sepal_length')\n"
      ],
      "metadata": {
        "colab": {
          "base_uri": "https://localhost:8080/"
        },
        "id": "TYnA6QLejfkt",
        "outputId": "eef78e48-d731-488d-cc17-6bf12cf80e42"
      },
      "execution_count": 7,
      "outputs": [
        {
          "output_type": "stream",
          "name": "stdout",
          "text": [
            "   sepal_length  sepal_width  petal_length  petal_width species\n",
            "0           5.1          3.5           1.4          0.2  setosa\n",
            "1           4.9          3.0           1.4          0.2  setosa\n",
            "2           4.7          3.2           1.3          0.2  setosa\n",
            "3           4.6          3.1           1.5          0.2  setosa\n",
            "4           5.0          3.6           1.4          0.2  setosa\n",
            "       sepal_length  sepal_width  petal_length  petal_width\n",
            "count    150.000000   150.000000    150.000000   150.000000\n",
            "mean       5.843333     3.057333      3.758000     1.199333\n",
            "std        0.828066     0.435866      1.765298     0.762238\n",
            "min        4.300000     2.000000      1.000000     0.100000\n",
            "25%        5.100000     2.800000      1.600000     0.300000\n",
            "50%        5.800000     3.000000      4.350000     1.300000\n",
            "75%        6.400000     3.300000      5.100000     1.800000\n",
            "max        7.900000     4.400000      6.900000     2.500000\n"
          ]
        }
      ]
    },
    {
      "cell_type": "code",
      "source": [],
      "metadata": {
        "id": "lf0PVKN0jjgy"
      },
      "execution_count": null,
      "outputs": []
    },
    {
      "cell_type": "markdown",
      "source": [
        "Q2. Python function to re-index the DataFrame with a new index:"
      ],
      "metadata": {
        "id": "krYt1-SamonT"
      }
    },
    {
      "cell_type": "code",
      "source": [
        "def reindex_dataframe(df):\n",
        "    new_index = range(1, len(df)*2, 2)\n",
        "    df.index = new_index\n",
        "    return df\n",
        "\n",
        "# Example usage:\n",
        "# new_df = reindex_dataframe(df)\n"
      ],
      "metadata": {
        "id": "88ARGjMumpMy"
      },
      "execution_count": 8,
      "outputs": []
    },
    {
      "cell_type": "code",
      "source": [],
      "metadata": {
        "id": "0I3zYcHhmt3F"
      },
      "execution_count": null,
      "outputs": []
    },
    {
      "cell_type": "markdown",
      "source": [
        "Q3. Python function to calculate the sum of the first three values in a column:"
      ],
      "metadata": {
        "id": "7Iib_wf2mutB"
      }
    },
    {
      "cell_type": "code",
      "source": [
        "def sum_of_first_three_values(df):\n",
        "    sum_values = df['Values'].iloc[:3].sum()\n",
        "    print(\"Sum of the first three values:\", sum_values)\n",
        "\n",
        "# Example usage:\n",
        "# sum_of_first_three_values(df)\n"
      ],
      "metadata": {
        "id": "R1JGJ7xFmw2N"
      },
      "execution_count": 9,
      "outputs": []
    },
    {
      "cell_type": "code",
      "source": [],
      "metadata": {
        "id": "qqX7znR8mylA"
      },
      "execution_count": null,
      "outputs": []
    },
    {
      "cell_type": "markdown",
      "source": [
        "Q4. Python function to create a new column 'Word_Count':"
      ],
      "metadata": {
        "id": "ZS2jjGfJmzCj"
      }
    },
    {
      "cell_type": "code",
      "source": [
        "def create_word_count_column(df):\n",
        "    df['Word_Count'] = df['Text'].apply(lambda x: len(x.split()))\n",
        "    return df\n",
        "\n",
        "# Example usage:\n",
        "# df = create_word_count_column(df)\n"
      ],
      "metadata": {
        "id": "kfYOTxC_m1Vn"
      },
      "execution_count": 10,
      "outputs": []
    },
    {
      "cell_type": "code",
      "source": [
        "Q5. Difference between DataFrame.size() and DataFrame.shape():\n",
        "\n",
        "DataFrame.size: Returns the number of elements in the DataFrame, which is the product of the number of rows and columns.\n",
        "DataFrame.shape: Returns a tuple representing the dimensionality of the DataFrame, i.e., (number of rows, number of columns)."
      ],
      "metadata": {
        "id": "ZY-6cKjkm3Xo"
      },
      "execution_count": null,
      "outputs": []
    },
    {
      "cell_type": "code",
      "source": [],
      "metadata": {
        "id": "tVHWqtVBm73U"
      },
      "execution_count": null,
      "outputs": []
    },
    {
      "cell_type": "markdown",
      "source": [
        "Q6. Function to read an excel file in pandas:"
      ],
      "metadata": {
        "id": "rUNK178im8hA"
      }
    },
    {
      "cell_type": "code",
      "source": [
        "\n",
        "# read_excel(): Reads an Excel file into a DataFrame\n",
        "df = pd.read_excel('file.xlsx')"
      ],
      "metadata": {
        "id": "2GL4NABhm-_E"
      },
      "execution_count": 13,
      "outputs": []
    },
    {
      "cell_type": "markdown",
      "source": [
        "Q7. Python function to extract username from email addresses:"
      ],
      "metadata": {
        "id": "mCCQgP9LnjWV"
      }
    },
    {
      "cell_type": "code",
      "source": [
        "def extract_username(df):\n",
        "    df['Username'] = df['Email'].apply(lambda x: x.split('@')[0])\n",
        "    return df\n",
        "\n",
        "# Example usage:\n",
        "# df = extract_username(df)\n"
      ],
      "metadata": {
        "id": "IvSGQklqnOWP"
      },
      "execution_count": 14,
      "outputs": []
    },
    {
      "cell_type": "code",
      "source": [],
      "metadata": {
        "id": "cSL0B_2vnldR"
      },
      "execution_count": null,
      "outputs": []
    },
    {
      "cell_type": "markdown",
      "source": [
        "Q8. Python function to select rows based on column values:"
      ],
      "metadata": {
        "id": "khtqlS8nnomo"
      }
    },
    {
      "cell_type": "code",
      "source": [
        "import pandas as pd\n",
        "\n",
        "def select_rows(df):\n",
        "    selected_rows = df[(df['A'] > 5) & (df['B'] < 10)]\n",
        "    return selected_rows\n",
        "\n",
        "# Usage example:\n",
        "# df = pd.DataFrame(...)\n",
        "# selected_df = select_rows(df)\n"
      ],
      "metadata": {
        "id": "S0BTCuLfnpAT"
      },
      "execution_count": 16,
      "outputs": []
    },
    {
      "cell_type": "code",
      "source": [],
      "metadata": {
        "id": "SCPQuRc7nquW"
      },
      "execution_count": null,
      "outputs": []
    },
    {
      "cell_type": "markdown",
      "source": [
        "\n",
        "Q9. Python function to calculate mean, median, and standard deviation of values in a column:"
      ],
      "metadata": {
        "id": "FTNujt8CoTOJ"
      }
    },
    {
      "cell_type": "code",
      "source": [
        "import pandas as pd\n",
        "\n",
        "def calculate_stats(df):\n",
        "    values_column = df['Values']\n",
        "    mean_value = values_column.mean()\n",
        "    median_value = values_column.median()\n",
        "    std_dev_value = values_column.std()\n",
        "    return mean_value, median_value, std_dev_value\n",
        "\n",
        "# Usage example:\n",
        "# df = pd.DataFrame(...)\n",
        "# mean, median, std_dev = calculate_stats(df)\n"
      ],
      "metadata": {
        "id": "yppNzFQZoT6P"
      },
      "execution_count": 17,
      "outputs": []
    },
    {
      "cell_type": "code",
      "source": [],
      "metadata": {
        "id": "X5aKt0M_oVg5"
      },
      "execution_count": null,
      "outputs": []
    },
    {
      "cell_type": "markdown",
      "source": [
        "Q10. Python function to calculate moving average of sales for the past 7 days:"
      ],
      "metadata": {
        "id": "ZU2ykHYIoZVi"
      }
    },
    {
      "cell_type": "code",
      "source": [
        "import pandas as pd\n",
        "\n",
        "def calculate_moving_average(df):\n",
        "    df['MovingAverage'] = df['Sales'].rolling(window=7, min_periods=1).mean()\n",
        "    return df\n",
        "\n",
        "# Usage example:\n",
        "# df = pd.DataFrame(...)\n",
        "# df = calculate_moving_average(df)\n"
      ],
      "metadata": {
        "id": "kOA5FVwfoZtn"
      },
      "execution_count": 18,
      "outputs": []
    },
    {
      "cell_type": "code",
      "source": [],
      "metadata": {
        "id": "uCuOnjzsobL7"
      },
      "execution_count": null,
      "outputs": []
    },
    {
      "cell_type": "markdown",
      "source": [
        "Q11. Python function to create a new column 'Weekday' containing weekday names:"
      ],
      "metadata": {
        "id": "gMevVPc6ob4c"
      }
    },
    {
      "cell_type": "code",
      "source": [
        "import pandas as pd\n",
        "\n",
        "def add_weekday_column(df):\n",
        "    df['Weekday'] = pd.to_datetime(df['Date']).dt.day_name()\n",
        "    return df\n",
        "\n",
        "# Usage example:\n",
        "# df = pd.DataFrame(...)\n",
        "# df = add_weekday_column(df)\n"
      ],
      "metadata": {
        "id": "0UJsgABpoeH8"
      },
      "execution_count": 19,
      "outputs": []
    },
    {
      "cell_type": "code",
      "source": [],
      "metadata": {
        "id": "4MkREIV7ohls"
      },
      "execution_count": null,
      "outputs": []
    },
    {
      "cell_type": "markdown",
      "source": [
        "Q12. Python function to select rows where the date is between '2023-01-01' and '2023-01-31':"
      ],
      "metadata": {
        "id": "EELGZqh7okc5"
      }
    },
    {
      "cell_type": "code",
      "source": [
        "import pandas as pd\n",
        "\n",
        "def select_rows_between_dates(df):\n",
        "    df['Date'] = pd.to_datetime(df['Date'])  # Convert 'Date' column to datetime\n",
        "    selected_rows = df[(df['Date'] >= '2023-01-01') & (df['Date'] <= '2023-01-31')]\n",
        "    return selected_rows\n",
        "\n",
        "# Usage example:\n",
        "# df = pd.DataFrame(...)\n",
        "# selected_df = select_rows_between_dates(df)\n"
      ],
      "metadata": {
        "id": "l9BXjbE_ok9L"
      },
      "execution_count": 20,
      "outputs": []
    },
    {
      "cell_type": "code",
      "source": [
        "Q13. Necessary library to import for using basic functions of pandas:\n",
        "\n",
        "The first and foremost necessary library that needs to be imported to use basic functions of pandas is pandas itself.\n",
        "So, you import pandas using:"
      ],
      "metadata": {
        "id": "aXCPzVSpom9e"
      },
      "execution_count": null,
      "outputs": []
    },
    {
      "cell_type": "code",
      "source": [
        "import pandas as pd\n"
      ],
      "metadata": {
        "id": "PA53S2K9owgT"
      },
      "execution_count": 21,
      "outputs": []
    },
    {
      "cell_type": "code",
      "source": [],
      "metadata": {
        "id": "tqRNrXYVow6T"
      },
      "execution_count": null,
      "outputs": []
    }
  ]
}