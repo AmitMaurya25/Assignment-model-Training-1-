{
  "nbformat": 4,
  "nbformat_minor": 0,
  "metadata": {
    "colab": {
      "provenance": []
    },
    "kernelspec": {
      "name": "python3",
      "display_name": "Python 3"
    },
    "language_info": {
      "name": "python"
    }
  },
  "cells": [
    {
      "cell_type": "markdown",
      "source": [
        "Q1. Is there any difference in the data type of variables list_ and array_list? If there is, print the data types of both variables."
      ],
      "metadata": {
        "id": "iwjWJWkZje6L"
      }
    },
    {
      "cell_type": "code",
      "source": [
        "import numpy as np\n",
        "\n",
        "list_ = ['1', '2', '3', '4', '5']\n",
        "array_list = np.array(object=list_)\n",
        "\n",
        "print(\"Data type of list_:\", type(list_[0]))\n",
        "print(\"Data type of array_list:\", array_list.dtype)\n"
      ],
      "metadata": {
        "colab": {
          "base_uri": "https://localhost:8080/"
        },
        "id": "TYnA6QLejfkt",
        "outputId": "1d4750c6-3d05-4e96-e13d-a2886fb1a9df"
      },
      "execution_count": 22,
      "outputs": [
        {
          "output_type": "stream",
          "name": "stdout",
          "text": [
            "Data type of list_: <class 'str'>\n",
            "Data type of array_list: <U1\n"
          ]
        }
      ]
    },
    {
      "cell_type": "code",
      "source": [],
      "metadata": {
        "id": "lf0PVKN0jjgy"
      },
      "execution_count": null,
      "outputs": []
    },
    {
      "cell_type": "markdown",
      "source": [
        "Q2. Print the data type of each element of both variables list_ and array_list."
      ],
      "metadata": {
        "id": "krYt1-SamonT"
      }
    },
    {
      "cell_type": "code",
      "source": [
        "for element in list_:\n",
        "    print(f\"Data type of element in list_: {type(element)}\")\n",
        "\n",
        "for element in array_list:\n",
        "    print(f\"Data type of element in array_list: {type(element)}\")\n"
      ],
      "metadata": {
        "colab": {
          "base_uri": "https://localhost:8080/"
        },
        "id": "88ARGjMumpMy",
        "outputId": "712539b3-32bc-43c3-e63e-acb2e3c5ea26"
      },
      "execution_count": 23,
      "outputs": [
        {
          "output_type": "stream",
          "name": "stdout",
          "text": [
            "Data type of element in list_: <class 'str'>\n",
            "Data type of element in list_: <class 'str'>\n",
            "Data type of element in list_: <class 'str'>\n",
            "Data type of element in list_: <class 'str'>\n",
            "Data type of element in list_: <class 'str'>\n",
            "Data type of element in array_list: <class 'numpy.str_'>\n",
            "Data type of element in array_list: <class 'numpy.str_'>\n",
            "Data type of element in array_list: <class 'numpy.str_'>\n",
            "Data type of element in array_list: <class 'numpy.str_'>\n",
            "Data type of element in array_list: <class 'numpy.str_'>\n"
          ]
        }
      ]
    },
    {
      "cell_type": "code",
      "source": [],
      "metadata": {
        "id": "0I3zYcHhmt3F"
      },
      "execution_count": null,
      "outputs": []
    },
    {
      "cell_type": "markdown",
      "source": [
        "Q3. Will there be any difference in the data type of the elements present in both variables list_ and array_list? If so, print the data types of each element present in both variables list_ and array_list."
      ],
      "metadata": {
        "id": "7Iib_wf2mutB"
      }
    },
    {
      "cell_type": "code",
      "source": [
        "array_list = np.array(object=list_, dtype=int)\n",
        "\n",
        "for element in list_:\n",
        "    print(f\"Data type of element in list_: {type(element)}\")\n",
        "\n",
        "for element in array_list:\n",
        "    print(f\"Data type of element in array_list: {type(element)}\")\n"
      ],
      "metadata": {
        "colab": {
          "base_uri": "https://localhost:8080/"
        },
        "id": "R1JGJ7xFmw2N",
        "outputId": "d347f564-43ee-4efa-8717-213940bb37c3"
      },
      "execution_count": 24,
      "outputs": [
        {
          "output_type": "stream",
          "name": "stdout",
          "text": [
            "Data type of element in list_: <class 'str'>\n",
            "Data type of element in list_: <class 'str'>\n",
            "Data type of element in list_: <class 'str'>\n",
            "Data type of element in list_: <class 'str'>\n",
            "Data type of element in list_: <class 'str'>\n",
            "Data type of element in array_list: <class 'numpy.int64'>\n",
            "Data type of element in array_list: <class 'numpy.int64'>\n",
            "Data type of element in array_list: <class 'numpy.int64'>\n",
            "Data type of element in array_list: <class 'numpy.int64'>\n",
            "Data type of element in array_list: <class 'numpy.int64'>\n"
          ]
        }
      ]
    },
    {
      "cell_type": "code",
      "source": [],
      "metadata": {
        "id": "qqX7znR8mylA"
      },
      "execution_count": null,
      "outputs": []
    },
    {
      "cell_type": "markdown",
      "source": [
        "Q4. Characteristics of variable num_array:"
      ],
      "metadata": {
        "id": "ZS2jjGfJmzCj"
      }
    },
    {
      "cell_type": "code",
      "source": [
        "import numpy as np\n",
        "\n",
        "num_list = [[1, 2, 3], [4, 5, 6]]\n",
        "num_array = np.array(object=num_list)\n",
        "\n",
        "print(\"Shape of num_array:\", num_array.shape)\n",
        "print(\"Size of num_array:\", num_array.size)\n"
      ],
      "metadata": {
        "colab": {
          "base_uri": "https://localhost:8080/"
        },
        "id": "kfYOTxC_m1Vn",
        "outputId": "227b134f-db75-40b7-c3ae-e1dd37ce7b6b"
      },
      "execution_count": 25,
      "outputs": [
        {
          "output_type": "stream",
          "name": "stdout",
          "text": [
            "Shape of num_array: (2, 3)\n",
            "Size of num_array: 6\n"
          ]
        }
      ]
    },
    {
      "cell_type": "code",
      "source": [
        "Q5. Create a numpy array of a 3x3 matrix containing zeros only."
      ],
      "metadata": {
        "id": "ZY-6cKjkm3Xo"
      },
      "execution_count": null,
      "outputs": []
    },
    {
      "cell_type": "code",
      "source": [
        "import numpy as np\n",
        "\n",
        "zero_array = np.zeros((3, 3))\n",
        "print(\"Zero array:\")\n",
        "print(zero_array)\n"
      ],
      "metadata": {
        "colab": {
          "base_uri": "https://localhost:8080/"
        },
        "id": "tVHWqtVBm73U",
        "outputId": "72e36326-1529-4e65-ddfe-657f4f7ee85b"
      },
      "execution_count": 26,
      "outputs": [
        {
          "output_type": "stream",
          "name": "stdout",
          "text": [
            "Zero array:\n",
            "[[0. 0. 0.]\n",
            " [0. 0. 0.]\n",
            " [0. 0. 0.]]\n"
          ]
        }
      ]
    },
    {
      "cell_type": "markdown",
      "source": [
        "Q6. Create an identity matrix of shape (5,5) using numpy functions."
      ],
      "metadata": {
        "id": "rUNK178im8hA"
      }
    },
    {
      "cell_type": "code",
      "source": [
        "import numpy as np\n",
        "\n",
        "identity_matrix = np.eye(5)\n",
        "print(\"Identity matrix:\")\n",
        "print(identity_matrix)\n"
      ],
      "metadata": {
        "colab": {
          "base_uri": "https://localhost:8080/"
        },
        "id": "2GL4NABhm-_E",
        "outputId": "7c9752b4-9267-4a38-9bb5-cefcf68aca29"
      },
      "execution_count": 27,
      "outputs": [
        {
          "output_type": "stream",
          "name": "stdout",
          "text": [
            "Identity matrix:\n",
            "[[1. 0. 0. 0. 0.]\n",
            " [0. 1. 0. 0. 0.]\n",
            " [0. 0. 1. 0. 0.]\n",
            " [0. 0. 0. 1. 0.]\n",
            " [0. 0. 0. 0. 1.]]\n"
          ]
        }
      ]
    }
  ]
}