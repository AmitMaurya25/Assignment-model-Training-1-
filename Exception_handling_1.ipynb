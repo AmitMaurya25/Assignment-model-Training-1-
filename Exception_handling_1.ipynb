{
  "nbformat": 4,
  "nbformat_minor": 0,
  "metadata": {
    "colab": {
      "provenance": [],
      "gpuType": "T4"
    },
    "kernelspec": {
      "name": "python3",
      "display_name": "Python 3"
    },
    "language_info": {
      "name": "python"
    },
    "accelerator": "GPU"
  },
  "cells": [
    {
      "cell_type": "code",
      "execution_count": null,
      "metadata": {
        "id": "4KQrvcjglL3G"
      },
      "outputs": [],
      "source": [
        "Q1. What is an Exception in Python? Write the difference between Exceptions and Syntax errors.\n",
        "\n",
        "In Python, an exception is an error that occurs during the execution of a program. When an exception occurs, the program halts its normal flow and jumps to the nearest exception handler.\n",
        "\n",
        "Differences between Exceptions and Syntax errors:\n",
        "\n",
        "Exceptions:\n",
        "\n",
        "Exceptions occur during the execution of the program.\n",
        "They are typically caused by runtime errors such as division by zero, accessing an index out of range, etc.\n",
        "Exceptions can be caught and handled using try-except blocks.\n",
        "Syntax errors:\n",
        "\n",
        "Syntax errors occur during the parsing of the code, i.e., when the code is being compiled.\n",
        "They are caused by incorrect syntax, such as missing colons, incorrect indentation, etc.\n",
        "Syntax errors must be fixed before the code can be executed.\n"
      ]
    },
    {
      "cell_type": "code",
      "source": [
        "Q2. What happens when an exception is not handled? Explain with an example.\n",
        "\n",
        "When an exception is not handled, it propagates up through the call stack until it encounters a handler or reaches the top level, at which point the program terminates with an error message.\n",
        "\n",
        "Example:"
      ],
      "metadata": {
        "id": "4Kfq1z9dl1XW"
      },
      "execution_count": null,
      "outputs": []
    },
    {
      "cell_type": "code",
      "source": [
        "def divide(x, y):\n",
        "    if y == 0:\n",
        "        print(\"Error: Division by zero is not allowed.\")\n",
        "        return None\n",
        "    else:\n",
        "        return x / y\n",
        "\n",
        "result = divide(10, 0)  # This will not raise an error, but return None\n",
        "print(result)  # This will print None\n"
      ],
      "metadata": {
        "colab": {
          "base_uri": "https://localhost:8080/"
        },
        "id": "XvQ3L9kRl4cj",
        "outputId": "13fb9fe1-3da5-4d48-c55a-cd13917d0866"
      },
      "execution_count": 2,
      "outputs": [
        {
          "output_type": "stream",
          "name": "stdout",
          "text": [
            "Error: Division by zero is not allowed.\n",
            "None\n"
          ]
        }
      ]
    },
    {
      "cell_type": "code",
      "source": [
        "If the ZeroDivisionError is not handled, the program will terminate with an error message indicating division by zero."
      ],
      "metadata": {
        "id": "tP1dtgRkl6si"
      },
      "execution_count": null,
      "outputs": []
    },
    {
      "cell_type": "code",
      "source": [
        "Q3. Python statements to catch and handle exceptions: try, except, finally. Here's an example:"
      ],
      "metadata": {
        "id": "cfkt_3-2mk5a"
      },
      "execution_count": null,
      "outputs": []
    },
    {
      "cell_type": "code",
      "source": [
        "try:\n",
        "    num = int(input(\"Enter a number: \"))\n",
        "    result = 10 / num\n",
        "    print(\"Result:\", result)\n",
        "except ZeroDivisionError:\n",
        "    print(\"Error: Cannot divide by zero.\")\n",
        "except ValueError:\n",
        "    print(\"Error: Invalid input. Please enter a valid number.\")\n",
        "finally:\n",
        "    print(\"Execution complete.\")\n"
      ],
      "metadata": {
        "colab": {
          "base_uri": "https://localhost:8080/"
        },
        "id": "gpns9er2mncE",
        "outputId": "c8d6847e-e2d4-46f2-e756-221f4269f4e7"
      },
      "execution_count": 3,
      "outputs": [
        {
          "output_type": "stream",
          "name": "stdout",
          "text": [
            "Enter a number: 4\n",
            "Result: 2.5\n",
            "Execution complete.\n"
          ]
        }
      ]
    },
    {
      "cell_type": "code",
      "source": [
        "Q4.\n",
        "a. try and else:"
      ],
      "metadata": {
        "id": "xQ8WLO5bmn_X"
      },
      "execution_count": null,
      "outputs": []
    },
    {
      "cell_type": "code",
      "source": [
        "try:\n",
        "    num = int(input(\"Enter a number: \"))\n",
        "    result = 10 / num\n",
        "except ZeroDivisionError:\n",
        "    print(\"Error: Cannot divide by zero.\")\n",
        "else:\n",
        "    print(\"Result:\", result)\n"
      ],
      "metadata": {
        "colab": {
          "base_uri": "https://localhost:8080/"
        },
        "id": "4siejTQhmxGJ",
        "outputId": "3b89a0fa-f41e-424e-82a9-3878361e93c7"
      },
      "execution_count": 4,
      "outputs": [
        {
          "output_type": "stream",
          "name": "stdout",
          "text": [
            "Enter a number: 2\n",
            "Result: 5.0\n"
          ]
        }
      ]
    },
    {
      "cell_type": "code",
      "source": [
        "The else block is executed if no exception occurs within the try block.\n",
        "\n",
        "b. finally:"
      ],
      "metadata": {
        "id": "Y-vDTWYLmyQL"
      },
      "execution_count": null,
      "outputs": []
    },
    {
      "cell_type": "code",
      "source": [
        "try:\n",
        "    num = int(input(\"Enter a number: \"))\n",
        "    result = 10 / num\n",
        "except ZeroDivisionError:\n",
        "    print(\"Error: Cannot divide by zero.\")\n",
        "finally:\n",
        "    print(\"Execution complete.\")\n"
      ],
      "metadata": {
        "colab": {
          "base_uri": "https://localhost:8080/"
        },
        "id": "pAGXHXpmm4eT",
        "outputId": "efaf862b-9452-4910-adfd-27108e2163ca"
      },
      "execution_count": 5,
      "outputs": [
        {
          "output_type": "stream",
          "name": "stdout",
          "text": [
            "Enter a number: 6\n",
            "Execution complete.\n"
          ]
        }
      ]
    },
    {
      "cell_type": "code",
      "source": [
        "The finally block always executes, regardless of whether an exception occurred or not.\n",
        "\n",
        "c. raise:"
      ],
      "metadata": {
        "id": "7knYA-BBm6KF"
      },
      "execution_count": null,
      "outputs": []
    },
    {
      "cell_type": "code",
      "source": [
        "try:\n",
        "    age = int(input(\"Please enter your age: \"))\n",
        "    if age < 0:\n",
        "        raise ValueError(\"Age cannot be negative.\")\n",
        "    else:\n",
        "        print(\"Age entered:\", age)\n",
        "except ValueError as ve:\n",
        "    print(\"Error:\", ve)\n"
      ],
      "metadata": {
        "id": "ZY97o4UKm_TK"
      },
      "execution_count": null,
      "outputs": []
    },
    {
      "cell_type": "code",
      "source": [
        "The raise statement is used to raise exceptions. In this example, a ValueError is raised if the age is negative."
      ],
      "metadata": {
        "id": "OHL_cHgInA2P"
      },
      "execution_count": null,
      "outputs": []
    },
    {
      "cell_type": "code",
      "source": [
        "Q5. Custom Exceptions in Python: Custom exceptions are user-defined exceptions. We create custom exceptions by subclassing built-in exception classes.\n",
        "We may need custom exceptions to create more descriptive and specific error messages for our applications. For example:"
      ],
      "metadata": {
        "id": "ve9rMYxGnMkf"
      },
      "execution_count": null,
      "outputs": []
    },
    {
      "cell_type": "code",
      "source": [
        "class CustomError(Exception):\n",
        "    pass\n",
        "\n",
        "def validate_age(age):\n",
        "    if age < 0:\n",
        "        raise CustomError(\"Age cannot be negative.\")\n",
        "\n",
        "try:\n",
        "    age = int(input(\"Enter your age: \"))\n",
        "    validate_age(age)\n",
        "except CustomError as e:\n",
        "    print(\"Error:\", e)\n"
      ],
      "metadata": {
        "id": "5GupE5kynOyp"
      },
      "execution_count": null,
      "outputs": []
    },
    {
      "cell_type": "code",
      "source": [
        "In this example, CustomError is a custom exception class that inherits from the base Exception class.\n",
        " It provides a more meaningful error message when the age entered is negative."
      ],
      "metadata": {
        "id": "Oaq88X-onQfq"
      },
      "execution_count": null,
      "outputs": []
    },
    {
      "cell_type": "code",
      "source": [
        "Q6. Creating a custom exception class and handling an exception:"
      ],
      "metadata": {
        "id": "0n26-yg2nVLJ"
      },
      "execution_count": null,
      "outputs": []
    },
    {
      "cell_type": "code",
      "source": [
        "class CustomError(Exception):\n",
        "    def __init__(self, message):\n",
        "        self.message = message\n",
        "\n",
        "def validate_input(value):\n",
        "    if not isinstance(value, int):\n",
        "        raise CustomError(\"Input must be an integer.\")\n",
        "\n",
        "try:\n",
        "    value = input(\"Enter an integer: \")\n",
        "    validate_input(value)\n",
        "except CustomError as e:\n",
        "    print(\"Error:\", e)\n"
      ],
      "metadata": {
        "id": "4SCE-6zDnX4-"
      },
      "execution_count": null,
      "outputs": []
    },
    {
      "cell_type": "code",
      "source": [],
      "metadata": {
        "id": "N_KGrXGGnZhW"
      },
      "execution_count": null,
      "outputs": []
    }
  ]
}