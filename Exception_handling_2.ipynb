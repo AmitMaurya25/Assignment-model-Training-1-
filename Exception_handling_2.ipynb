{
  "nbformat": 4,
  "nbformat_minor": 0,
  "metadata": {
    "colab": {
      "provenance": [],
      "gpuType": "T4"
    },
    "kernelspec": {
      "name": "python3",
      "display_name": "Python 3"
    },
    "language_info": {
      "name": "python"
    },
    "accelerator": "GPU"
  },
  "cells": [
    {
      "cell_type": "code",
      "execution_count": null,
      "metadata": {
        "id": "4KQrvcjglL3G"
      },
      "outputs": [],
      "source": [
        "Q1. Explanation of using the Exception class while creating a Custom Exception:\n",
        "\n",
        "When creating a custom exception in Python, it's essential to subclass from the built-in Exception class. This is because the Exception class serves as the base class for all built-in exceptions in Python.\n",
        " By inheriting from Exception, our custom exception inherits the behavior and properties of the base Exception class, such as the ability to specify an error message and handle exceptions using try and except blocks.\n",
        "\n",
        "Additionally, inheriting from Exception allows our custom exception to be caught along with other built-in exceptions using a generic except block,\n",
        " enabling us to handle both built-in and custom exceptions uniformly within our code.\n",
        "\n",
        "Here's an example demonstrating the creation of a custom exception by subclassing from the Exception class:"
      ]
    },
    {
      "cell_type": "code",
      "source": [
        "class CustomError(Exception):\n",
        "    pass\n",
        "\n",
        "try:\n",
        "    raise CustomError(\"This is a custom exception.\")\n",
        "except CustomError as e:\n",
        "    print(\"Custom exception caught:\", e)\n"
      ],
      "metadata": {
        "colab": {
          "base_uri": "https://localhost:8080/"
        },
        "id": "4Kfq1z9dl1XW",
        "outputId": "5e6dcd9e-23fd-4057-9941-3d09bd765841"
      },
      "execution_count": 1,
      "outputs": [
        {
          "output_type": "stream",
          "name": "stdout",
          "text": [
            "Custom exception caught: This is a custom exception.\n"
          ]
        }
      ]
    },
    {
      "cell_type": "code",
      "source": [
        "CustomError is a custom exception that inherits from the Exception class. When an instance of CustomError is raised and caught, it behaves similarly to any other built-in exception,\n",
        " allowing us to handle it appropriately in our code."
      ],
      "metadata": {
        "colab": {
          "base_uri": "https://localhost:8080/"
        },
        "id": "XvQ3L9kRl4cj",
        "outputId": "13fb9fe1-3da5-4d48-c55a-cd13917d0866"
      },
      "execution_count": 2,
      "outputs": [
        {
          "output_type": "stream",
          "name": "stdout",
          "text": [
            "Error: Division by zero is not allowed.\n",
            "None\n"
          ]
        }
      ]
    },
    {
      "cell_type": "code",
      "source": [
        "Q2. Python Program to print Python Exception Hierarchy:"
      ],
      "metadata": {
        "id": "tP1dtgRkl6si"
      },
      "execution_count": null,
      "outputs": []
    },
    {
      "cell_type": "code",
      "source": [
        "def print_exception_hierarchy(exception_class, indent=0):\n",
        "    print(\"  \" * indent + str(exception_class))\n",
        "    for subclass in exception_class.__subclasses__():\n",
        "        print_exception_hierarchy(subclass, indent + 1)\n",
        "\n",
        "print(\"Python Exception Hierarchy:\")\n",
        "print_exception_hierarchy(BaseException)\n"
      ],
      "metadata": {
        "colab": {
          "base_uri": "https://localhost:8080/"
        },
        "id": "cfkt_3-2mk5a",
        "outputId": "b70e5757-1006-4b14-d0ec-2bf925df72d0"
      },
      "execution_count": 2,
      "outputs": [
        {
          "output_type": "stream",
          "name": "stdout",
          "text": [
            "Python Exception Hierarchy:\n",
            "<class 'BaseException'>\n",
            "  <class 'Exception'>\n",
            "    <class 'TypeError'>\n",
            "      <class 'email.errors.MultipartConversionError'>\n",
            "      <class 'decimal.FloatOperation'>\n",
            "      <class 'numpy.core._exceptions.UFuncTypeError'>\n",
            "        <class 'numpy.core._exceptions._UFuncBinaryResolutionError'>\n",
            "        <class 'numpy.core._exceptions._UFuncNoLoopError'>\n",
            "        <class 'numpy.core._exceptions._UFuncCastingError'>\n",
            "          <class 'numpy.core._exceptions._UFuncInputCastingError'>\n",
            "          <class 'numpy.core._exceptions._UFuncOutputCastingError'>\n",
            "      <class 'matplotlib.units.ConversionError'>\n",
            "    <class 'StopAsyncIteration'>\n",
            "    <class 'StopIteration'>\n",
            "    <class 'ImportError'>\n",
            "      <class 'ModuleNotFoundError'>\n",
            "        <class 'importlib.metadata.PackageNotFoundError'>\n",
            "      <class 'zipimport.ZipImportError'>\n",
            "    <class 'OSError'>\n",
            "      <class 'ConnectionError'>\n",
            "        <class 'BrokenPipeError'>\n",
            "        <class 'ConnectionAbortedError'>\n",
            "        <class 'ConnectionRefusedError'>\n",
            "        <class 'ConnectionResetError'>\n",
            "          <class 'http.client.RemoteDisconnected'>\n",
            "      <class 'BlockingIOError'>\n",
            "      <class 'ChildProcessError'>\n",
            "      <class 'FileExistsError'>\n",
            "      <class 'FileNotFoundError'>\n",
            "        <class 'matplotlib.ExecutableNotFoundError'>\n",
            "      <class 'IsADirectoryError'>\n",
            "      <class 'NotADirectoryError'>\n",
            "      <class 'InterruptedError'>\n",
            "        <class 'zmq.error.InterruptedSystemCall'>\n",
            "      <class 'PermissionError'>\n",
            "      <class 'ProcessLookupError'>\n",
            "      <class 'TimeoutError'>\n",
            "      <class 'io.UnsupportedOperation'>\n",
            "      <class 'signal.itimer_error'>\n",
            "      <class 'shutil.Error'>\n",
            "        <class 'shutil.SameFileError'>\n",
            "      <class 'shutil.SpecialFileError'>\n",
            "      <class 'shutil.ExecError'>\n",
            "      <class 'shutil.ReadError'>\n",
            "      <class 'socket.herror'>\n",
            "      <class 'socket.gaierror'>\n",
            "      <class 'ssl.SSLError'>\n",
            "        <class 'ssl.SSLCertVerificationError'>\n",
            "        <class 'ssl.SSLZeroReturnError'>\n",
            "        <class 'ssl.SSLWantWriteError'>\n",
            "        <class 'ssl.SSLWantReadError'>\n",
            "        <class 'ssl.SSLSyscallError'>\n",
            "        <class 'ssl.SSLEOFError'>\n",
            "      <class 'urllib.error.URLError'>\n",
            "        <class 'urllib.error.HTTPError'>\n",
            "        <class 'urllib.error.ContentTooShortError'>\n",
            "      <class 'PIL.UnidentifiedImageError'>\n",
            "      <class 'gzip.BadGzipFile'>\n",
            "      <class 'socks.ProxyError'>\n",
            "        <class 'socks.GeneralProxyError'>\n",
            "        <class 'socks.ProxyConnectionError'>\n",
            "        <class 'socks.SOCKS5AuthError'>\n",
            "        <class 'socks.SOCKS5Error'>\n",
            "        <class 'socks.SOCKS4Error'>\n",
            "        <class 'socks.HTTPError'>\n",
            "    <class 'EOFError'>\n",
            "      <class 'asyncio.exceptions.IncompleteReadError'>\n",
            "    <class 'RuntimeError'>\n",
            "      <class 'RecursionError'>\n",
            "      <class 'NotImplementedError'>\n",
            "        <class 'IPython.core.error.StdinNotImplementedError'>\n",
            "        <class 'zmq.error.ZMQVersionError'>\n",
            "      <class '_frozen_importlib._DeadlockError'>\n",
            "      <class 'threading.BrokenBarrierError'>\n",
            "      <class 'concurrent.futures._base.BrokenExecutor'>\n",
            "        <class 'concurrent.futures.thread.BrokenThreadPool'>\n",
            "      <class 'asyncio.exceptions.SendfileNotAvailableError'>\n",
            "      <class 'setuptools.errors.RemovedCommandError'>\n",
            "      <class 'setuptools.errors.PackageDiscoveryError'>\n",
            "      <class 'numpy.TooHardError'>\n",
            "      <class 'pkg_resources.ExtractionError'>\n",
            "      <class '_pydevd_bundle.pydevd_vars.VariableError'>\n",
            "    <class 'NameError'>\n",
            "      <class 'UnboundLocalError'>\n",
            "    <class 'AttributeError'>\n",
            "      <class 'dataclasses.FrozenInstanceError'>\n",
            "    <class 'SyntaxError'>\n",
            "      <class 'IndentationError'>\n",
            "        <class 'TabError'>\n",
            "      <class 'xml.etree.ElementTree.ParseError'>\n",
            "    <class 'LookupError'>\n",
            "      <class 'IndexError'>\n",
            "        <class 'numpy.AxisError'>\n",
            "        <class 'matplotlib.streamplot.OutOfBounds'>\n",
            "      <class 'KeyError'>\n",
            "        <class 'IPython.terminal.pt_inputhooks.UnknownBackend'>\n",
            "        <class 'jupyter_client.kernelspec.NoSuchKernel'>\n",
            "      <class 'encodings.CodecRegistryError'>\n",
            "    <class 'ValueError'>\n",
            "      <class 'UnicodeError'>\n",
            "        <class 'UnicodeEncodeError'>\n",
            "        <class 'UnicodeDecodeError'>\n",
            "        <class 'UnicodeTranslateError'>\n",
            "      <class 'io.UnsupportedOperation'>\n",
            "      <class 'json.decoder.JSONDecodeError'>\n",
            "      <class '_hashlib.UnsupportedDigestmodError'>\n",
            "      <class 'binascii.Error'>\n",
            "      <class 'pygments.util.ClassNotFound'>\n",
            "      <class 'ssl.SSLCertVerificationError'>\n",
            "      <class 'IPython.lib.clipboard.ClipboardEmpty'>\n",
            "      <class 'email.errors.MessageDefect'>\n",
            "        <class 'email.errors.NoBoundaryInMultipartDefect'>\n",
            "        <class 'email.errors.StartBoundaryNotFoundDefect'>\n",
            "        <class 'email.errors.CloseBoundaryNotFoundDefect'>\n",
            "        <class 'email.errors.FirstHeaderLineIsContinuationDefect'>\n",
            "        <class 'email.errors.MisplacedEnvelopeHeaderDefect'>\n",
            "        <class 'email.errors.MissingHeaderBodySeparatorDefect'>\n",
            "        <class 'email.errors.MultipartInvariantViolationDefect'>\n",
            "        <class 'email.errors.InvalidMultipartContentTransferEncodingDefect'>\n",
            "        <class 'email.errors.UndecodableBytesDefect'>\n",
            "        <class 'email.errors.InvalidBase64PaddingDefect'>\n",
            "        <class 'email.errors.InvalidBase64CharactersDefect'>\n",
            "        <class 'email.errors.InvalidBase64LengthDefect'>\n",
            "        <class 'email.errors.HeaderDefect'>\n",
            "          <class 'email.errors.InvalidHeaderDefect'>\n",
            "          <class 'email.errors.HeaderMissingRequiredValue'>\n",
            "          <class 'email.errors.NonPrintableDefect'>\n",
            "          <class 'email.errors.ObsoleteHeaderDefect'>\n",
            "          <class 'email.errors.NonASCIILocalPartDefect'>\n",
            "          <class 'email.errors.InvalidDateDefect'>\n",
            "      <class 'calendar.IllegalMonthError'>\n",
            "      <class 'calendar.IllegalWeekdayError'>\n",
            "      <class 'IPython.core.magics.code.MacroToEdit'>\n",
            "      <class 'dateutil.parser._parser.ParserError'>\n",
            "      <class 'setuptools._vendor.more_itertools.more.UnequalIterablesError'>\n",
            "      <class 'setuptools._vendor.packaging._elffile.ELFInvalid'>\n",
            "      <class 'setuptools.extern.packaging.version.InvalidVersion'>\n",
            "      <class 'setuptools.extern.packaging.utils.InvalidWheelFilename'>\n",
            "      <class 'setuptools.extern.packaging.utils.InvalidSdistFilename'>\n",
            "      <class 'setuptools.extern.packaging.specifiers.InvalidSpecifier'>\n",
            "      <class 'setuptools.extern.packaging.markers.InvalidMarker'>\n",
            "      <class 'setuptools.extern.packaging.markers.UndefinedComparison'>\n",
            "      <class 'setuptools.extern.packaging.markers.UndefinedEnvironmentName'>\n",
            "      <class 'setuptools.extern.packaging.requirements.InvalidRequirement'>\n",
            "      <class 'google.colab._import_hooks._cv2.DisabledFunctionError'>\n",
            "      <class 'packaging.version.InvalidVersion'>\n",
            "      <class 'numpy.compat._pep440.InvalidVersion'>\n",
            "      <class 'numpy.AxisError'>\n",
            "      <class 'defusedxml.common.DefusedXmlException'>\n",
            "        <class 'defusedxml.common.DTDForbidden'>\n",
            "        <class 'defusedxml.common.EntitiesForbidden'>\n",
            "        <class 'defusedxml.common.ExternalReferenceForbidden'>\n",
            "        <class 'defusedxml.common.NotSupportedError'>\n",
            "      <class 'matplotlib.bezier.NonIntersectingPathException'>\n",
            "      <class 'plistlib.InvalidFileException'>\n",
            "      <class 'pkg_resources._vendor.more_itertools.recipes.UnequalIterablesError'>\n",
            "      <class 'pkg_resources.extern.packaging.version.InvalidVersion'>\n",
            "      <class 'pkg_resources._vendor.packaging._elffile.ELFInvalid'>\n",
            "      <class 'pkg_resources.extern.packaging.utils.InvalidWheelFilename'>\n",
            "      <class 'pkg_resources.extern.packaging.utils.InvalidSdistFilename'>\n",
            "      <class 'pkg_resources.extern.packaging.specifiers.InvalidSpecifier'>\n",
            "      <class 'pkg_resources.extern.packaging.markers.InvalidMarker'>\n",
            "      <class 'pkg_resources.extern.packaging.markers.UndefinedComparison'>\n",
            "      <class 'pkg_resources.extern.packaging.markers.UndefinedEnvironmentName'>\n",
            "      <class 'pkg_resources.extern.packaging.requirements.InvalidRequirement'>\n",
            "        <class 'pkg_resources.RequirementParseError'>\n",
            "    <class 'AssertionError'>\n",
            "    <class 'ArithmeticError'>\n",
            "      <class 'FloatingPointError'>\n",
            "      <class 'OverflowError'>\n",
            "      <class 'ZeroDivisionError'>\n",
            "        <class 'decimal.DivisionByZero'>\n",
            "        <class 'decimal.DivisionUndefined'>\n",
            "      <class 'decimal.DecimalException'>\n",
            "        <class 'decimal.Clamped'>\n",
            "        <class 'decimal.Rounded'>\n",
            "          <class 'decimal.Underflow'>\n",
            "          <class 'decimal.Overflow'>\n",
            "        <class 'decimal.Inexact'>\n",
            "          <class 'decimal.Underflow'>\n",
            "          <class 'decimal.Overflow'>\n",
            "        <class 'decimal.Subnormal'>\n",
            "          <class 'decimal.Underflow'>\n",
            "        <class 'decimal.DivisionByZero'>\n",
            "        <class 'decimal.FloatOperation'>\n",
            "        <class 'decimal.InvalidOperation'>\n",
            "          <class 'decimal.ConversionSyntax'>\n",
            "          <class 'decimal.DivisionImpossible'>\n",
            "          <class 'decimal.DivisionUndefined'>\n",
            "          <class 'decimal.InvalidContext'>\n",
            "    <class 'SystemError'>\n",
            "      <class 'encodings.CodecRegistryError'>\n",
            "    <class 'ReferenceError'>\n",
            "    <class 'MemoryError'>\n",
            "      <class 'numpy.core._exceptions._ArrayMemoryError'>\n",
            "    <class 'BufferError'>\n",
            "    <class 'Warning'>\n",
            "      <class 'UserWarning'>\n",
            "        <class 'getpass.GetPassWarning'>\n",
            "        <class 'IPython.core.formatters.FormatterWarning'>\n",
            "        <class 'setuptools.warnings.SetuptoolsWarning'>\n",
            "          <class 'setuptools.warnings.InformationOnly'>\n",
            "          <class 'setuptools.warnings.SetuptoolsDeprecationWarning'>\n",
            "            <class 'setuptools.config.setupcfg._AmbiguousMarker'>\n",
            "            <class 'setuptools.config.setupcfg._DeprecatedConfig'>\n",
            "            <class 'setuptools.config._apply_pyprojecttoml._WouldIgnoreField'>\n",
            "            <class 'setuptools.dist.DistDeprecationWarning'>\n",
            "          <class 'setuptools.config.pyprojecttoml._BetaConfiguration'>\n",
            "          <class 'setuptools.config.pyprojecttoml._InvalidFile'>\n",
            "        <class 'numpy.VisibleDeprecationWarning'>\n",
            "        <class 'numpy.RankWarning'>\n",
            "        <class 'numpy.lib._iotools.ConversionWarning'>\n",
            "        <class 'numpy.polynomial.polyutils.RankWarning'>\n",
            "      <class 'EncodingWarning'>\n",
            "      <class 'DeprecationWarning'>\n",
            "        <class 'IPython.core.interactiveshell.ProvisionalWarning'>\n",
            "        <class 'numpy.ModuleDeprecationWarning'>\n",
            "        <class 'matplotlib._api.deprecation.MatplotlibDeprecationWarning'>\n",
            "      <class 'PendingDeprecationWarning'>\n",
            "      <class 'SyntaxWarning'>\n",
            "      <class 'RuntimeWarning'>\n",
            "        <class 'zmq.asyncio.ProactorSelectorThreadWarning'>\n",
            "        <class 'dateutil.parser._parser.UnknownTimezoneWarning'>\n",
            "        <class 'numpy.ComplexWarning'>\n",
            "        <class 'PIL.Image.DecompressionBombWarning'>\n",
            "        <class 'pkg_resources.PEP440Warning'>\n",
            "      <class 'FutureWarning'>\n",
            "        <class 'IPython.core.completer.ProvisionalCompleterWarning'>\n",
            "        <class 'numpy.ma.core.MaskedArrayFutureWarning'>\n",
            "      <class 'ImportWarning'>\n",
            "      <class 'UnicodeWarning'>\n",
            "      <class 'BytesWarning'>\n",
            "      <class 'ResourceWarning'>\n",
            "      <class 'dateutil.tz.DeprecatedTzFormatWarning'>\n",
            "      <class 'matplotlib.mathtext.MathTextWarning'>\n",
            "      <class 'pkg_resources.PkgResourcesDeprecationWarning'>\n",
            "    <class 'warnings._OptionError'>\n",
            "    <class 're.error'>\n",
            "    <class 'sre_parse.Verbose'>\n",
            "    <class 'locale.Error'>\n",
            "    <class 'runpy._Error'>\n",
            "    <class 'subprocess.SubprocessError'>\n",
            "      <class 'subprocess.CalledProcessError'>\n",
            "      <class 'subprocess.TimeoutExpired'>\n",
            "    <class 'copy.Error'>\n",
            "    <class 'tokenize.TokenError'>\n",
            "    <class 'tokenize.StopTokenizing'>\n",
            "    <class 'zlib.error'>\n",
            "    <class '_lzma.LZMAError'>\n",
            "    <class 'shutil.RegistryError'>\n",
            "    <class 'shutil._GiveupOnFastCopy'>\n",
            "    <class 'inspect.ClassFoundException'>\n",
            "    <class 'inspect.EndOfBlock'>\n",
            "    <class 'traitlets.traitlets.TraitError'>\n",
            "    <class 'socket._GiveupOnSendfile'>\n",
            "    <class 'struct.error'>\n",
            "    <class '_pickle.PickleError'>\n",
            "      <class '_pickle.PicklingError'>\n",
            "      <class '_pickle.UnpicklingError'>\n",
            "    <class 'pickle._Stop'>\n",
            "    <class '_queue.Empty'>\n",
            "    <class 'queue.Full'>\n",
            "    <class 'argparse.ArgumentError'>\n",
            "    <class 'argparse.ArgumentTypeError'>\n",
            "    <class 'traitlets.config.loader.ConfigError'>\n",
            "      <class 'traitlets.config.loader.ConfigLoaderError'>\n",
            "        <class 'traitlets.config.loader.ArgumentError'>\n",
            "      <class 'traitlets.config.loader.ConfigFileNotFound'>\n",
            "    <class 'traitlets.config.configurable.ConfigurableError'>\n",
            "      <class 'traitlets.config.configurable.MultipleInstanceError'>\n",
            "    <class 'traitlets.config.application.ApplicationError'>\n",
            "    <class 'pydoc.ErrorDuringImport'>\n",
            "    <class 'bdb.BdbQuit'>\n",
            "    <class 'pdb.Restart'>\n",
            "    <class 'pexpect.exceptions.ExceptionPexpect'>\n",
            "      <class 'pexpect.exceptions.EOF'>\n",
            "      <class 'pexpect.exceptions.TIMEOUT'>\n",
            "    <class 'termios.error'>\n",
            "    <class 'ptyprocess.util.PtyProcessError'>\n",
            "    <class 'IPython.utils.process.FindCmdError'>\n",
            "    <class 'IPython.utils.path.HomeDirError'>\n",
            "    <class 'IPython.core.profiledir.ProfileDirError'>\n",
            "    <class 'IPython.core.error.IPythonCoreError'>\n",
            "      <class 'IPython.core.error.TryNext'>\n",
            "      <class 'IPython.core.error.UsageError'>\n",
            "      <class 'IPython.core.error.StdinNotImplementedError'>\n",
            "    <class 'IPython.core.error.InputRejected'>\n",
            "    <class 'getopt.GetoptError'>\n",
            "    <class 'binascii.Incomplete'>\n",
            "    <class 'pygments.util.OptionError'>\n",
            "    <class 'pygments.filters.ErrorToken'>\n",
            "    <class 'IPython.core.prefilter.PrefilterError'>\n",
            "    <class 'IPython.core.alias.AliasError'>\n",
            "      <class 'IPython.core.alias.InvalidAliasError'>\n",
            "    <class 'sqlite3.Error'>\n",
            "      <class 'sqlite3.InterfaceError'>\n",
            "      <class 'sqlite3.DatabaseError'>\n",
            "        <class 'sqlite3.InternalError'>\n",
            "        <class 'sqlite3.OperationalError'>\n",
            "        <class 'sqlite3.ProgrammingError'>\n",
            "        <class 'sqlite3.IntegrityError'>\n",
            "        <class 'sqlite3.DataError'>\n",
            "        <class 'sqlite3.NotSupportedError'>\n",
            "    <class 'sqlite3.Warning'>\n",
            "    <class 'concurrent.futures._base.Error'>\n",
            "      <class 'concurrent.futures._base.CancelledError'>\n",
            "      <class 'concurrent.futures._base.TimeoutError'>\n",
            "      <class 'concurrent.futures._base.InvalidStateError'>\n",
            "    <class 'asyncio.exceptions.TimeoutError'>\n",
            "    <class 'asyncio.exceptions.InvalidStateError'>\n",
            "    <class 'asyncio.exceptions.LimitOverrunError'>\n",
            "    <class 'asyncio.queues.QueueEmpty'>\n",
            "    <class 'asyncio.queues.QueueFull'>\n",
            "    <class 'IPython.core.interactiveshell.SpaceInInput'>\n",
            "    <class 'xml.dom.DOMException'>\n",
            "      <class 'xml.dom.IndexSizeErr'>\n",
            "      <class 'xml.dom.DomstringSizeErr'>\n",
            "      <class 'xml.dom.HierarchyRequestErr'>\n",
            "      <class 'xml.dom.WrongDocumentErr'>\n",
            "      <class 'xml.dom.InvalidCharacterErr'>\n",
            "      <class 'xml.dom.NoDataAllowedErr'>\n",
            "      <class 'xml.dom.NoModificationAllowedErr'>\n",
            "      <class 'xml.dom.NotFoundErr'>\n",
            "      <class 'xml.dom.NotSupportedErr'>\n",
            "      <class 'xml.dom.InuseAttributeErr'>\n",
            "      <class 'xml.dom.InvalidStateErr'>\n",
            "      <class 'xml.dom.SyntaxErr'>\n",
            "      <class 'xml.dom.InvalidModificationErr'>\n",
            "      <class 'xml.dom.NamespaceErr'>\n",
            "      <class 'xml.dom.InvalidAccessErr'>\n",
            "      <class 'xml.dom.ValidationErr'>\n",
            "    <class 'prompt_toolkit.validation.ValidationError'>\n",
            "    <class 'prompt_toolkit.buffer.EditReadOnlyBuffer'>\n",
            "    <class 'prompt_toolkit.buffer._Retry'>\n",
            "    <class 'prompt_toolkit.layout.layout.InvalidLayoutError'>\n",
            "    <class 'prompt_toolkit.renderer.HeightIsUnknownError'>\n",
            "    <class 'email.errors.MessageError'>\n",
            "      <class 'email.errors.MessageParseError'>\n",
            "        <class 'email.errors.HeaderParseError'>\n",
            "          <class 'email._header_value_parser._InvalidEwError'>\n",
            "        <class 'email.errors.BoundaryError'>\n",
            "      <class 'email.errors.MultipartConversionError'>\n",
            "      <class 'email.errors.CharsetError'>\n",
            "    <class 'uu.Error'>\n",
            "    <class 'http.client.HTTPException'>\n",
            "      <class 'http.client.NotConnected'>\n",
            "      <class 'http.client.InvalidURL'>\n",
            "      <class 'http.client.UnknownProtocol'>\n",
            "      <class 'http.client.UnknownTransferEncoding'>\n",
            "      <class 'http.client.UnimplementedFileMode'>\n",
            "      <class 'http.client.IncompleteRead'>\n",
            "      <class 'http.client.ImproperConnectionState'>\n",
            "        <class 'http.client.CannotSendRequest'>\n",
            "        <class 'http.client.CannotSendHeader'>\n",
            "        <class 'http.client.ResponseNotReady'>\n",
            "      <class 'http.client.BadStatusLine'>\n",
            "        <class 'http.client.RemoteDisconnected'>\n",
            "      <class 'http.client.LineTooLong'>\n",
            "    <class 'IPython.core.magics.code.InteractivelyDefined'>\n",
            "    <class 'IPython.terminal.embed.KillEmbedded'>\n",
            "    <class 'ctypes.ArgumentError'>\n",
            "    <class 'zmq.error.ZMQBaseError'>\n",
            "      <class 'zmq.error.ZMQError'>\n",
            "        <class 'zmq.error.ContextTerminated'>\n",
            "        <class 'zmq.error.Again'>\n",
            "        <class 'zmq.error.InterruptedSystemCall'>\n",
            "      <class 'zmq.error.ZMQBindError'>\n",
            "      <class 'zmq.error.NotDone'>\n",
            "    <class 'jupyter_client.localinterfaces.NoIPAddresses'>\n",
            "    <class 'configparser.Error'>\n",
            "      <class 'configparser.NoSectionError'>\n",
            "      <class 'configparser.DuplicateSectionError'>\n",
            "      <class 'configparser.DuplicateOptionError'>\n",
            "      <class 'configparser.NoOptionError'>\n",
            "      <class 'configparser.InterpolationError'>\n",
            "        <class 'configparser.InterpolationMissingOptionError'>\n",
            "        <class 'configparser.InterpolationSyntaxError'>\n",
            "        <class 'configparser.InterpolationDepthError'>\n",
            "      <class 'configparser.ParsingError'>\n",
            "        <class 'configparser.MissingSectionHeaderError'>\n",
            "    <class 'jupyter_client.channels.InvalidPortNumber'>\n",
            "    <class 'jupyter_client.multikernelmanager.DuplicateKernelError'>\n",
            "    <class '_curses.error'>\n",
            "    <class 'tornado.concurrent.ReturnValueIgnoredError'>\n",
            "    <class 'tornado.gen.KeyReuseError'>\n",
            "    <class 'tornado.gen.UnknownKeyError'>\n",
            "    <class 'tornado.gen.LeakedCallbackError'>\n",
            "    <class 'tornado.gen.BadYieldError'>\n",
            "    <class 'tornado.gen.ReturnValueIgnoredError'>\n",
            "    <class 'tornado.gen.Return'>\n",
            "    <class 'tornado.queues.QueueEmpty'>\n",
            "    <class 'tornado.queues.QueueFull'>\n",
            "    <class 'distutils.errors.DistutilsError'>\n",
            "      <class 'distutils.errors.DistutilsModuleError'>\n",
            "      <class 'distutils.errors.DistutilsClassError'>\n",
            "      <class 'distutils.errors.DistutilsGetoptError'>\n",
            "      <class 'distutils.errors.DistutilsArgError'>\n",
            "      <class 'distutils.errors.DistutilsFileError'>\n",
            "      <class 'distutils.errors.DistutilsOptionError'>\n",
            "      <class 'distutils.errors.DistutilsSetupError'>\n",
            "      <class 'distutils.errors.DistutilsPlatformError'>\n",
            "      <class 'distutils.errors.DistutilsExecError'>\n",
            "      <class 'distutils.errors.DistutilsInternalError'>\n",
            "      <class 'distutils.errors.DistutilsTemplateError'>\n",
            "      <class 'distutils.errors.DistutilsByteCompileError'>\n",
            "      <class 'setuptools.errors.RemovedCommandError'>\n",
            "      <class 'setuptools.errors.PackageDiscoveryError'>\n",
            "    <class 'distutils.errors.CCompilerError'>\n",
            "      <class 'distutils.errors.PreprocessError'>\n",
            "      <class 'distutils.errors.CompileError'>\n",
            "      <class 'distutils.errors.LibError'>\n",
            "      <class 'distutils.errors.LinkError'>\n",
            "      <class 'distutils.errors.UnknownFileError'>\n",
            "    <class 'zipfile.BadZipFile'>\n",
            "    <class 'zipfile.LargeZipFile'>\n",
            "    <class '_csv.Error'>\n",
            "    <class 'setuptools.extern.packaging._tokenizer.ParserSyntaxError'>\n",
            "    <class 'google.colab.errors.Error'>\n",
            "      <class 'google.colab.errors.AuthorizationError'>\n",
            "      <class 'google.colab.errors.RuntimeManagementError'>\n",
            "      <class 'google.colab._message.MessageError'>\n",
            "    <class 'google.colab.errors.WidgetException'>\n",
            "    <class 'google.colab.output._js_builder.JsException'>\n",
            "    <class 'numpy.linalg.LinAlgError'>\n",
            "    <class 'numpy.lib._iotools.ConverterError'>\n",
            "      <class 'numpy.lib._iotools.ConverterLockError'>\n",
            "    <class 'numpy.ma.core.MAError'>\n",
            "      <class 'numpy.ma.core.MaskError'>\n",
            "    <class 'google.colab._shell_customizations.FormattedTracebackError'>\n",
            "    <class 'psutil.Error'>\n",
            "      <class 'psutil.NoSuchProcess'>\n",
            "        <class 'psutil.ZombieProcess'>\n",
            "      <class 'psutil.AccessDenied'>\n",
            "      <class 'psutil.TimeoutExpired'>\n",
            "    <class 'psutil._pslinux._Ipv6UnsupportedError'>\n",
            "    <class 'pyparsing.exceptions.ParseBaseException'>\n",
            "      <class 'pyparsing.exceptions.ParseException'>\n",
            "      <class 'pyparsing.exceptions.ParseFatalException'>\n",
            "        <class 'pyparsing.exceptions.ParseSyntaxException'>\n",
            "    <class 'pyparsing.exceptions.RecursiveGrammarException'>\n",
            "    <class 'httplib2.error.HttpLib2Error'>\n",
            "      <class 'httplib2.error.HttpLib2ErrorWithResponse'>\n",
            "        <class 'httplib2.error.RedirectMissingLocation'>\n",
            "        <class 'httplib2.error.RedirectLimit'>\n",
            "        <class 'httplib2.error.FailedToDecompressContent'>\n",
            "        <class 'httplib2.error.UnimplementedDigestAuthOptionError'>\n",
            "        <class 'httplib2.error.UnimplementedHmacDigestAuthOptionError'>\n",
            "      <class 'httplib2.error.MalformedHeader'>\n",
            "      <class 'httplib2.error.RelativeURIError'>\n",
            "      <class 'httplib2.error.ServerNotFoundError'>\n",
            "      <class 'httplib2.error.ProxiesUnavailableError'>\n",
            "    <class 'xml.parsers.expat.ExpatError'>\n",
            "    <class 'PIL.Image.DecompressionBombError'>\n",
            "    <class 'cffi.FFIError'>\n",
            "    <class 'cffi.CDefError'>\n",
            "    <class 'cffi.VerificationError'>\n",
            "    <class 'cffi.VerificationMissing'>\n",
            "    <class 'cffi.PkgConfigError'>\n",
            "    <class 'kiwisolver.exceptions.BadRequiredStrength'>\n",
            "    <class 'kiwisolver.exceptions.DuplicateConstraint'>\n",
            "    <class 'kiwisolver.exceptions.DuplicateEditVariable'>\n",
            "    <class 'kiwisolver.exceptions.UnknownConstraint'>\n",
            "    <class 'kiwisolver.exceptions.UnknownEditVariable'>\n",
            "    <class 'kiwisolver.exceptions.UnsatisfiableConstraint'>\n",
            "    <class 'matplotlib.backend_bases.NonGuiException'>\n",
            "    <class 'matplotlib.streamplot.InvalidIndexError'>\n",
            "    <class 'matplotlib.streamplot.TerminateTrajectory'>\n",
            "    <class 'portpicker.NoFreePortFoundError'>\n",
            "    <class '_pydev_bundle._pydev_saved_modules.DebuggerInitializationError'>\n",
            "    <class 'xmlrpc.client.Error'>\n",
            "      <class 'xmlrpc.client.ProtocolError'>\n",
            "      <class 'xmlrpc.client.ResponseError'>\n",
            "      <class 'xmlrpc.client.Fault'>\n",
            "    <class 'pkg_resources.extern.packaging._tokenizer.ParserSyntaxError'>\n",
            "    <class 'pkg_resources.ResolutionError'>\n",
            "      <class 'pkg_resources.VersionConflict'>\n",
            "        <class 'pkg_resources.ContextualVersionConflict'>\n",
            "      <class 'pkg_resources.DistributionNotFound'>\n",
            "      <class 'pkg_resources.UnknownExtra'>\n",
            "    <class '_pydevd_bundle.pydevd_runpy._Error'>\n",
            "    <class '_pydevd_bundle.pydevd_resolver.UnableToResolveVariableException'>\n",
            "    <class '_pydev_bundle.pydev_monkey.InvalidTypeInArgsException'>\n",
            "    <class '__main__.CustomError'>\n",
            "  <class 'GeneratorExit'>\n",
            "  <class 'SystemExit'>\n",
            "  <class 'KeyboardInterrupt'>\n",
            "  <class 'asyncio.exceptions.CancelledError'>\n",
            "  <class 'setuptools._vendor.more_itertools.more.AbortThread'>\n",
            "  <class 'pkg_resources._vendor.more_itertools.more.AbortThread'>\n"
          ]
        }
      ]
    },
    {
      "cell_type": "code",
      "source": [
        "Q3. Errors defined in the ArithmeticError class:\n",
        "\n",
        "ArithmeticError is the base class for arithmetic errors in Python. Two common errors defined within this class are ZeroDivisionError and OverflowError.\n",
        "\n",
        "ZeroDivisionError: This error occurs when attempting to divide by zero.\n",
        "\n",
        "Example:"
      ],
      "metadata": {
        "colab": {
          "base_uri": "https://localhost:8080/"
        },
        "id": "gpns9er2mncE",
        "outputId": "c8d6847e-e2d4-46f2-e756-221f4269f4e7"
      },
      "execution_count": 3,
      "outputs": [
        {
          "output_type": "stream",
          "name": "stdout",
          "text": [
            "Enter a number: 4\n",
            "Result: 2.5\n",
            "Execution complete.\n"
          ]
        }
      ]
    },
    {
      "cell_type": "code",
      "source": [
        "result = 10 / 0  # This will raise a ZeroDivisionError\n"
      ],
      "metadata": {
        "id": "xQ8WLO5bmn_X"
      },
      "execution_count": 3,
      "outputs": []
    },
    {
      "cell_type": "code",
      "source": [
        "OverflowError: This error occurs when the result of an arithmetic operation exceeds the limits of the data type.\n",
        "\n",
        "Example:"
      ],
      "metadata": {
        "colab": {
          "base_uri": "https://localhost:8080/"
        },
        "id": "4siejTQhmxGJ",
        "outputId": "3b89a0fa-f41e-424e-82a9-3878361e93c7"
      },
      "execution_count": 4,
      "outputs": [
        {
          "output_type": "stream",
          "name": "stdout",
          "text": [
            "Enter a number: 2\n",
            "Result: 5.0\n"
          ]
        }
      ]
    },
    {
      "cell_type": "code",
      "source": [
        "import sys\n",
        "x = sys.maxsize\n",
        "print(x + 1)  # This will raise an OverflowError\n"
      ],
      "metadata": {
        "colab": {
          "base_uri": "https://localhost:8080/"
        },
        "id": "Y-vDTWYLmyQL",
        "outputId": "a0de8934-0293-41da-e636-63451388aa36"
      },
      "execution_count": 4,
      "outputs": [
        {
          "output_type": "stream",
          "name": "stdout",
          "text": [
            "9223372036854775808\n"
          ]
        }
      ]
    },
    {
      "cell_type": "code",
      "source": [
        "Q4. Usage of LookupError class:\n",
        "\n",
        "LookupError is the base class for errors that occur when a key or index used to access a mapping or sequence is invalid. Two examples of LookupError are KeyError and IndexError.\n",
        "\n",
        "KeyError: This error occurs when trying to access a key that does not exist in a dictionary.\n",
        "\n",
        "Example:"
      ],
      "metadata": {
        "colab": {
          "base_uri": "https://localhost:8080/"
        },
        "id": "pAGXHXpmm4eT",
        "outputId": "efaf862b-9452-4910-adfd-27108e2163ca"
      },
      "execution_count": 5,
      "outputs": [
        {
          "output_type": "stream",
          "name": "stdout",
          "text": [
            "Enter a number: 6\n",
            "Execution complete.\n"
          ]
        }
      ]
    },
    {
      "cell_type": "code",
      "source": [
        "my_dict = {\"key\": \"value\"}\n",
        "\n",
        "try:\n",
        "    value = my_dict[\"nonexistent_key\"]\n",
        "    print(\"Value found:\", value)\n",
        "except KeyError:\n",
        "    print(\"Error: Key 'nonexistent_key' not found in the dictionary.\")\n"
      ],
      "metadata": {
        "colab": {
          "base_uri": "https://localhost:8080/"
        },
        "id": "7knYA-BBm6KF",
        "outputId": "5ff4177c-5ae9-479a-994b-3bedbf29d16a"
      },
      "execution_count": 6,
      "outputs": [
        {
          "output_type": "stream",
          "name": "stdout",
          "text": [
            "Error: Key 'nonexistent_key' not found in the dictionary.\n"
          ]
        }
      ]
    },
    {
      "cell_type": "code",
      "source": [
        "IndexError: This error occurs when trying to access an index that is out of range in a sequence (e.g., list, tuple).\n",
        "\n",
        "Example:"
      ],
      "metadata": {
        "id": "ZY97o4UKm_TK"
      },
      "execution_count": null,
      "outputs": []
    },
    {
      "cell_type": "code",
      "source": [
        "my_list = [1, 2, 3]\n",
        "\n",
        "try:\n",
        "    value = my_list[3]\n",
        "    print(\"Value found:\", value)\n",
        "except IndexError:\n",
        "    print(\"Error: Index out of range. Please provide a valid index.\")\n"
      ],
      "metadata": {
        "colab": {
          "base_uri": "https://localhost:8080/"
        },
        "id": "7l3RC6-22iFf",
        "outputId": "753317da-6329-4866-d7db-66224a08e2b8"
      },
      "execution_count": 10,
      "outputs": [
        {
          "output_type": "stream",
          "name": "stdout",
          "text": [
            "Error: Index out of range. Please provide a valid index.\n"
          ]
        }
      ]
    },
    {
      "cell_type": "code",
      "source": [
        "Q5. Explanation of ImportError and ModuleNotFoundError:\n",
        "\n",
        "ImportError: This error occurs when an imported module cannot be found or loaded due to various reasons such as the module not existing, being misspelled, or not being in the search path.\n",
        "\n",
        "ModuleNotFoundError: This is a subclass of ImportError introduced in Python 3.6. It specifically indicates that the requested module could not be found.\n",
        "\n",
        "Example:"
      ],
      "metadata": {
        "id": "OHL_cHgInA2P"
      },
      "execution_count": null,
      "outputs": []
    },
    {
      "cell_type": "code",
      "source": [
        "try:\n",
        "    import non_existent_module\n",
        "except ImportError:\n",
        "    print(\"Module not found.\")\n"
      ],
      "metadata": {
        "colab": {
          "base_uri": "https://localhost:8080/"
        },
        "id": "ve9rMYxGnMkf",
        "outputId": "ec42154b-ae14-4ade-9a58-e3e68ba49326"
      },
      "execution_count": 8,
      "outputs": [
        {
          "output_type": "stream",
          "name": "stdout",
          "text": [
            "Module not found.\n"
          ]
        }
      ]
    },
    {
      "cell_type": "code",
      "source": [
        "Q6. Best practices for exception handling in Python:\n",
        "\n",
        "Be specific with exception handling: Catch only the exceptions you expect and can handle.\n",
        "\n",
        "Use multiple except blocks: Handle different exceptions separately to provide specific error messages or actions.\n",
        "\n",
        "Use finally block for cleanup: Use finally block to perform cleanup actions, such as closing files or releasing resources, regardless of whether an exception occurs.\n",
        "\n",
        "Avoid catching generic exceptions: Avoid catching generic exceptions like Exception or BaseException, as it may catch unexpected errors and make debugging difficult.\n",
        "\n",
        "Provide meaningful error messages: Include informative error messages to aid in debugging and troubleshooting.\n",
        "\n",
        "Use context managers (with statement): Utilize context managers to automatically handle resource cleanup, such as file operations.\n",
        "\n",
        "Log exceptions: Log exceptions with appropriate severity levels to aid in monitoring and debugging.\n",
        "\n",
        "Example code demonstrating some of these practices:"
      ],
      "metadata": {
        "id": "5GupE5kynOyp"
      },
      "execution_count": null,
      "outputs": []
    },
    {
      "cell_type": "code",
      "source": [
        "try:\n",
        "    # Code that may raise exceptions\n",
        "    file = open(\"example.txt\", \"r\")\n",
        "    data = file.read()\n",
        "except FileNotFoundError:\n",
        "    print(\"Error: File not found.\")\n",
        "except PermissionError:\n",
        "    print(\"Error: Permission denied.\")\n",
        "except Exception as e:\n",
        "    print(\"An unexpected error occurred:\", e)\n",
        "finally:\n",
        "    if 'file' in locals():\n",
        "        file.close()  # Close the file regardless of exceptions\n"
      ],
      "metadata": {
        "colab": {
          "base_uri": "https://localhost:8080/"
        },
        "id": "Oaq88X-onQfq",
        "outputId": "4f90316c-b42c-4fa7-97a7-62139858c09b"
      },
      "execution_count": 9,
      "outputs": [
        {
          "output_type": "stream",
          "name": "stdout",
          "text": [
            "Error: File not found.\n"
          ]
        }
      ]
    },
    {
      "cell_type": "code",
      "source": [],
      "metadata": {
        "id": "N_KGrXGGnZhW"
      },
      "execution_count": null,
      "outputs": []
    }
  ]
}