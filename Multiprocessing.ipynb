{
  "nbformat": 4,
  "nbformat_minor": 0,
  "metadata": {
    "colab": {
      "provenance": [],
      "toc_visible": true,
      "gpuType": "T4"
    },
    "kernelspec": {
      "name": "python3",
      "display_name": "Python 3"
    },
    "language_info": {
      "name": "python"
    },
    "accelerator": "GPU"
  },
  "cells": [
    {
      "cell_type": "code",
      "execution_count": null,
      "metadata": {
        "id": "4KQrvcjglL3G"
      },
      "outputs": [],
      "source": [
        "\n",
        "Q1. What is multiprocessing in Python? Why is it useful?\n",
        "\n",
        "Multiprocessing in Python refers to the ability to create and manage multiple processes concurrently.\n",
        "Each process runs independently of others, with its own memory space, resources, and execution context. Multiprocessing is useful for achieving parallelism,\n",
        "utilizing multiple CPU cores effectively, and improving the performance of CPU-bound tasks."
      ]
    },
    {
      "cell_type": "code",
      "source": [
        "Q2. Differences between multiprocessing and multithreading:\n",
        "\n",
        "Concurrency Model: Multiprocessing uses multiple processes, while multithreading uses multiple threads within the same process.\n",
        "Memory: Each process has its own memory space, while threads within the same process share memory.\n",
        "Parallelism: Multiprocessing achieves true parallelism by running processes simultaneously on multiple CPU cores,\n",
        "whereas multithreading may not achieve true parallelism due to Python's Global Interpreter Lock (GIL).\n",
        "Isolation: Processes are isolated from each other, making them more resilient to crashes, while threads share the same memory space and can potentially interfere with each other's data."
      ],
      "metadata": {
        "colab": {
          "base_uri": "https://localhost:8080/"
        },
        "id": "4Kfq1z9dl1XW",
        "outputId": "5e6dcd9e-23fd-4057-9941-3d09bd765841"
      },
      "execution_count": 1,
      "outputs": [
        {
          "output_type": "stream",
          "name": "stdout",
          "text": [
            "Custom exception caught: This is a custom exception.\n"
          ]
        }
      ]
    },
    {
      "cell_type": "code",
      "source": [
        "Q3. Python code to create a process using the multiprocessing module:"
      ],
      "metadata": {
        "colab": {
          "base_uri": "https://localhost:8080/"
        },
        "id": "XvQ3L9kRl4cj",
        "outputId": "13fb9fe1-3da5-4d48-c55a-cd13917d0866"
      },
      "execution_count": 2,
      "outputs": [
        {
          "output_type": "stream",
          "name": "stdout",
          "text": [
            "Error: Division by zero is not allowed.\n",
            "None\n"
          ]
        }
      ]
    },
    {
      "cell_type": "code",
      "source": [
        "import multiprocessing\n",
        "\n",
        "def my_process_func():\n",
        "    print(\"Child process running.\")\n",
        "\n",
        "if __name__ == \"__main__\":\n",
        "    # Create a process\n",
        "    my_process = multiprocessing.Process(target=my_process_func)\n",
        "\n",
        "    # Start the process\n",
        "    my_process.start()\n",
        "\n",
        "    # Wait for the process to finish\n",
        "    my_process.join()\n"
      ],
      "metadata": {
        "colab": {
          "base_uri": "https://localhost:8080/"
        },
        "id": "tP1dtgRkl6si",
        "outputId": "fa139e19-3785-4e50-c40d-04fc9ed956fa"
      },
      "execution_count": 12,
      "outputs": [
        {
          "output_type": "stream",
          "name": "stdout",
          "text": [
            "Child process running.\n"
          ]
        }
      ]
    },
    {
      "cell_type": "code",
      "source": [
        "Q4. What is a multiprocessing pool in Python? Why is it used?\n",
        "\n",
        "A multiprocessing pool in Python, provided by the multiprocessing.Pool class, is a convenient way to distribute work across multiple processes.\n",
        "It allows you to create a pool of worker processes, where each process can execute tasks asynchronously. Multiprocessing pools are useful for parallelizing CPU-bound tasks,\n",
        " such as parallelizing loops, performing parallel computations, or processing large datasets concurrently."
      ],
      "metadata": {
        "id": "cfkt_3-2mk5a"
      },
      "execution_count": 12,
      "outputs": []
    },
    {
      "cell_type": "code",
      "source": [
        "Q5. How to create a pool of worker processes in Python using the multiprocessing module:"
      ],
      "metadata": {
        "id": "gpns9er2mncE"
      },
      "execution_count": 13,
      "outputs": []
    },
    {
      "cell_type": "code",
      "source": [
        "import multiprocessing\n",
        "\n",
        "def worker_function(x):\n",
        "    return x * x\n",
        "\n",
        "if __name__ == \"__main__\":\n",
        "    # Create a multiprocessing pool with 4 worker processes\n",
        "    with multiprocessing.Pool(processes=4) as pool:\n",
        "        # Apply the worker function to a list of inputs\n",
        "        results = pool.map(worker_function, [1, 2, 3, 4, 5])\n",
        "        print(results)\n"
      ],
      "metadata": {
        "colab": {
          "base_uri": "https://localhost:8080/"
        },
        "id": "xQ8WLO5bmn_X",
        "outputId": "14284ae2-5e53-4b60-80f8-dc33f360a9a5"
      },
      "execution_count": 14,
      "outputs": [
        {
          "output_type": "stream",
          "name": "stdout",
          "text": [
            "[1, 4, 9, 16, 25]\n"
          ]
        }
      ]
    },
    {
      "cell_type": "code",
      "source": [
        "Q6. Python program to create 4 processes, each process should print a different number using the multiprocessing module:"
      ],
      "metadata": {
        "id": "4siejTQhmxGJ"
      },
      "execution_count": 15,
      "outputs": []
    },
    {
      "cell_type": "code",
      "source": [
        "import multiprocessing\n",
        "\n",
        "def print_number(number):\n",
        "    print(\"Process ID:\", multiprocessing.current_process().pid, \"- Number:\", number)\n",
        "\n",
        "if __name__ == \"__main__\":\n",
        "    processes = []\n",
        "\n",
        "    # Create 4 processes\n",
        "    for i in range(1, 5):\n",
        "        process = multiprocessing.Process(target=print_number, args=(i,))\n",
        "        processes.append(process)\n",
        "        process.start()\n",
        "\n",
        "    # Wait for all processes to finish\n",
        "    for process in processes:\n",
        "        process.join()\n"
      ],
      "metadata": {
        "colab": {
          "base_uri": "https://localhost:8080/"
        },
        "id": "TD6ez4rs-p87",
        "outputId": "1dd1ee4c-63f1-472c-877a-88d42fe64515"
      },
      "execution_count": 16,
      "outputs": [
        {
          "output_type": "stream",
          "name": "stdout",
          "text": [
            "Process ID:Process ID: Process ID:11083  Process ID: - Number: 110851 11089\n",
            "  - Number:- Number: 11094  3- Number:2\n",
            " \n",
            "4\n"
          ]
        }
      ]
    },
    {
      "cell_type": "code",
      "source": [
        " four processes are created, each executing the print_number() function with a different number as an argument.\n",
        " The multiprocessing.current_process().pid function is used to print the ID of each process. Finally,\n",
        " the join() method is called on each process to wait for them to finish before exiting the program."
      ],
      "metadata": {
        "id": "UmnOqaaO-v6N"
      },
      "execution_count": null,
      "outputs": []
    }
  ]
}