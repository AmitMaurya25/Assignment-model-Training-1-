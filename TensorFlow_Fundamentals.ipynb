{
  "nbformat": 4,
  "nbformat_minor": 0,
  "metadata": {
    "colab": {
      "provenance": []
    },
    "kernelspec": {
      "name": "python3",
      "display_name": "Python 3"
    },
    "language_info": {
      "name": "python"
    }
  },
  "cells": [
    {
      "cell_type": "code",
      "execution_count": null,
      "metadata": {
        "id": "YfTH6JBNw1Gy"
      },
      "outputs": [],
      "source": [
        "\n",
        "Part 1: Theoretical Questions\n",
        "1. Different Data Structures in TensorFlow:\n",
        "\n",
        "TensorFlow uses several data structures to represent and manipulate data:\n",
        "\n",
        "Tensor: The fundamental data structure in TensorFlow, a multi-dimensional array of data with a specific data type (e.g., integers, floats). Examples include a 2D image represented as a 2D array of pixel intensities, a 1D vector holding stock prices, or a 3D volume of medical data.\n",
        "Scalar: A 0-dimensional tensor, essentially a single number.\n",
        "Variable: A mutable tensor that holds state in your TensorFlow program. Its value can be updated during training or computation.\n",
        "Constant: An immutable tensor with a predetermined value that cannot be changed after creation.\n",
        "Dataset: A collection of tensors used for feeding data into your TensorFlow model during training or inference."
      ]
    },
    {
      "cell_type": "code",
      "source": [
        "2. TensorFlow Constant vs. Variable:\n",
        "\n",
        "Both represent data, but with crucial differences:\n",
        "\n",
        "Mutability:\n",
        "\n",
        "Constant: Immutable, its value cannot be changed after creation. Useful for defining fixed parameters like learning rates or initial weights.\n",
        "Variable: Mutable, its value can be updated during training or computation using operations like tf.assign. Used to store state and trainable parameters like model weights.\n",
        "Initialization:\n",
        "\n",
        "Constant: Initialized with a fixed value provided during creation.\n",
        "Variable: Requires an initial value, but that value can be the result of computations or other operations.\n",
        "Example:\n",
        "\n",
        "Imagine a learning rate for an optimizer. You might define it as a constant like learning_rate = tf.constant(0.01).\n",
        "Conversely, your model weights are variables initialized with random values and later updated during training based on the data."
      ],
      "metadata": {
        "id": "f7NEZoerxMQ6"
      },
      "execution_count": null,
      "outputs": []
    },
    {
      "cell_type": "code",
      "source": [
        "3. Matrix Operations in TensorFlow:\n",
        "\n",
        "TensorFlow provides multiple ways to perform matrix operations:\n",
        "\n",
        "Basic operators:\n",
        "\n",
        "Addition: tf.add(matrix_a, matrix_b)\n",
        "Subtraction: tf.subtract(matrix_a, matrix_b)\n",
        "Multiplication: tf.matmul(matrix_a, matrix_b)\n",
        "Built-in functions:\n",
        "\n",
        "Transpose: tf.transpose(matrix)\n",
        "Determinant: tf.linalg.det(matrix)\n",
        "Eigenvalues: tf.linalg.eigvalsh(matrix)\n",
        "Element-wise operations:\n",
        "\n",
        "Apply element-wise addition, subtraction, multiplication, division, etc., using operators like +, -, *, / directly on tensors.\n",
        "These examples cover basic operations. Many other advanced functionalities are available for more complex manipulations and numerical computations.\n",
        "\n",
        "Remember, TensorFlow functions often operate on entire tensors at once, providing efficient manipulation of large datasets."
      ],
      "metadata": {
        "id": "hAZZMaYpxMUc"
      },
      "execution_count": null,
      "outputs": []
    },
    {
      "cell_type": "markdown",
      "source": [
        "\n",
        "Part 2: Practical Implementation\n",
        "\n",
        "Task 1: Creating and Manipulating Matrices"
      ],
      "metadata": {
        "id": "G_iQKtLjxzVs"
      }
    },
    {
      "cell_type": "code",
      "source": [
        "\n",
        "Here's the Python code for the tasks you described, along with the expected output:"
      ],
      "metadata": {
        "id": "JinubI4oxMYA"
      },
      "execution_count": null,
      "outputs": []
    },
    {
      "cell_type": "code",
      "source": [
        "import tensorflow as tf\n",
        "\n",
        "# Task 1: Create a normal matrix A (3x3)\n",
        "matrix_A = tf.random.normal(shape=(3, 3))\n",
        "print(\"Matrix A:\")\n",
        "print(matrix_A.numpy())\n",
        "\n",
        "# Task 2: Create a Gaussian matrix B (3x3) to match the dimensions of A\n",
        "matrix_B = tf.random.truncated_normal(shape=(3, 3))\n",
        "print(\"\\nMatrix B:\")\n",
        "print(matrix_B.numpy())\n",
        "\n",
        "# Task 3: Create a matrix C with a custom normal distribution (3x3) to match the dimensions of A and B\n",
        "mean, stddev = 3, 0.5\n",
        "matrix_C = tf.random.normal(shape=(3, 3), mean=mean, stddev=stddev)\n",
        "print(\"\\nMatrix C:\")\n",
        "print(matrix_C.numpy())\n",
        "\n",
        "# Task 4: Perform matrix addition between A and B, store the result in D\n",
        "matrix_D = tf.add(matrix_A, matrix_B)\n",
        "print(\"\\nMatrix D (Result of A + B):\")\n",
        "print(matrix_D.numpy())\n",
        "\n",
        "# Task 5: Perform matrix multiplication between C and D, store the result in E\n",
        "matrix_E = tf.matmul(matrix_C, matrix_D)\n",
        "print(\"\\nMatrix E (Result of C * D):\")\n",
        "print(matrix_E.numpy())\n"
      ],
      "metadata": {
        "colab": {
          "base_uri": "https://localhost:8080/"
        },
        "id": "1z8UFau_xwO0",
        "outputId": "9b08c56f-115c-407e-b02e-e144b24378ae"
      },
      "execution_count": 12,
      "outputs": [
        {
          "output_type": "stream",
          "name": "stdout",
          "text": [
            "Matrix A:\n",
            "[[-0.5220494   0.14369836  0.9382226 ]\n",
            " [-0.32614037 -0.997453    0.8343614 ]\n",
            " [-0.31411338 -0.99141574  0.8817882 ]]\n",
            "\n",
            "Matrix B:\n",
            "[[-0.5582123  -0.12484179 -0.59601647]\n",
            " [-1.2169625   0.13567191 -1.5834138 ]\n",
            " [-0.19576868  1.5732236   0.3344054 ]]\n",
            "\n",
            "Matrix C:\n",
            "[[3.002276  2.9642513 2.9503138]\n",
            " [2.6925807 2.4984658 2.8446302]\n",
            " [3.031564  3.5107987 2.9492993]]\n",
            "\n",
            "Matrix D (Result of A + B):\n",
            "[[-1.0802617   0.01885657  0.34220612]\n",
            " [-1.5431029  -0.86178106 -0.74905246]\n",
            " [-0.5098821   0.58180785  1.2161936 ]]\n",
            "\n",
            "Matrix E (Result of C * D):\n",
            "[[ -9.321701   -0.7814072   2.39517  ]\n",
            " [ -8.214507   -0.4473294   2.5095568]\n",
            " [-10.1962     -1.2524495   1.9945662]]\n"
          ]
        }
      ]
    },
    {
      "cell_type": "markdown",
      "source": [
        "Task 2: Performing Additional Matrix Operations"
      ],
      "metadata": {
        "id": "CyyjoLL3zR9w"
      }
    },
    {
      "cell_type": "code",
      "source": [
        "# Task 2.1: Create a matrix F with dimensions 3x3 using random_uniform\n",
        "matrix_F = tf.random.uniform(shape=(3, 3))\n",
        "print(\"\\nMatrix F:\")\n",
        "print(matrix_F.numpy())\n",
        "\n",
        "# Task 2.2: Calculate the transpose of matrix F and store the result in matrix G\n",
        "matrix_G = tf.transpose(matrix_F)\n",
        "print(\"\\nMatrix G (Transpose of F):\")\n",
        "print(matrix_G.numpy())\n",
        "\n",
        "# Task 2.3: Calculate the element-wise exponential of matrix F and store the result in matrix H\n",
        "matrix_H = tf.exp(matrix_F)\n",
        "print(\"\\nMatrix H (Element-wise Exponential of F):\")\n",
        "print(matrix_H.numpy())\n",
        "\n",
        "# Task 2.4: Create a matrix I by concatenating matrix F and matrix G horizontally\n",
        "matrix_I = tf.concat([matrix_F, matrix_G], axis=1)\n",
        "print(\"\\nMatrix I (Concatenation of F and G horizontally):\")\n",
        "print(matrix_I.numpy())\n",
        "\n",
        "# Task 2.5: Create a matrix J by concatenating matrix F and matrix H vertically\n",
        "matrix_J = tf.concat([matrix_F, matrix_H], axis=0)\n",
        "print(\"\\nMatrix J (Concatenation of F and H vertically):\")\n",
        "print(matrix_J.numpy())\n"
      ],
      "metadata": {
        "colab": {
          "base_uri": "https://localhost:8080/"
        },
        "id": "dwE2s9VWzJpF",
        "outputId": "a7c949e5-9db1-4920-a504-6118e2829f1a"
      },
      "execution_count": 8,
      "outputs": [
        {
          "output_type": "stream",
          "name": "stdout",
          "text": [
            "\n",
            "Matrix F:\n",
            "[[0.96595335 0.700438   0.21754801]\n",
            " [0.06525898 0.21781468 0.20961499]\n",
            " [0.7212229  0.5042896  0.73570514]]\n",
            "\n",
            "Matrix G (Transpose of F):\n",
            "[[0.96595335 0.06525898 0.7212229 ]\n",
            " [0.700438   0.21781468 0.5042896 ]\n",
            " [0.21754801 0.20961499 0.73570514]]\n",
            "\n",
            "Matrix H (Element-wise Exponential of F):\n",
            "[[2.6272912 2.0146348 1.2430251]\n",
            " [1.0674354 1.2433566 1.2332032]\n",
            " [2.056947  1.6558088 2.0869532]]\n",
            "\n",
            "Matrix I (Concatenation of F and G horizontally):\n",
            "[[0.96595335 0.700438   0.21754801 0.96595335 0.06525898 0.7212229 ]\n",
            " [0.06525898 0.21781468 0.20961499 0.700438   0.21781468 0.5042896 ]\n",
            " [0.7212229  0.5042896  0.73570514 0.21754801 0.20961499 0.73570514]]\n",
            "\n",
            "Matrix J (Concatenation of F and H vertically):\n",
            "[[0.96595335 0.700438   0.21754801]\n",
            " [0.06525898 0.21781468 0.20961499]\n",
            " [0.7212229  0.5042896  0.73570514]\n",
            " [2.6272912  2.0146348  1.2430251 ]\n",
            " [1.0674354  1.2433566  1.2332032 ]\n",
            " [2.056947   1.6558088  2.0869532 ]]\n"
          ]
        }
      ]
    },
    {
      "cell_type": "code",
      "source": [],
      "metadata": {
        "id": "XpmnZsjvzKQK"
      },
      "execution_count": null,
      "outputs": []
    }
  ]
}