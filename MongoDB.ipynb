{
  "nbformat": 4,
  "nbformat_minor": 0,
  "metadata": {
    "colab": {
      "provenance": [],
      "toc_visible": true,
      "gpuType": "T4"
    },
    "kernelspec": {
      "name": "python3",
      "display_name": "Python 3"
    },
    "language_info": {
      "name": "python"
    },
    "accelerator": "GPU"
  },
  "cells": [
    {
      "cell_type": "code",
      "execution_count": null,
      "metadata": {
        "id": "4KQrvcjglL3G"
      },
      "outputs": [],
      "source": [
        "Q1. What is MongoDB? Explain non-relational databases in short. In which scenarios it is preferred to use MongoDB over SQL databases?\n",
        "\n",
        "MongoDB: A popular NoSQL (non-relational) database that stores data in flexible, JSON-like documents. It scales horizontally, making it ideal for handling large datasets and high volumes of data changes.\n",
        "\n",
        "Non-relational databases: Offer flexibility in data structure and schema, allowing for unstructured and semi-structured data. They often excel at:\n",
        "\n",
        "Handling large datasets\n",
        "Scaling horizontally\n",
        "Working with complex data structures\n",
        "Accommodating rapidly evolving data models\n",
        "Using MongoDB over SQL: Consider these situations:\n",
        "\n",
        "Unstructured or semi-structured data: If data doesn't fit neatly into rows and columns of a relational table, MongoDB's flexible schema can be more suitable.\n",
        "High data volume or change: If you need to store and manage massive datasets or frequently modify data, MongoDB's scalability and performance advantages can be crucial.\n",
        "Complex data relationships: If your data has intricate relationships that are challenging to model in a relational schema, MongoDB's dynamic document structure can simplify queries."
      ]
    },
    {
      "cell_type": "code",
      "source": [
        "Q2. State and Explain the features of MongoDB:\n",
        "\n",
        "Document-oriented: Stores data in JSON-like documents, allowing for flexible schema and varying data structures within a collection.\n",
        "Schemaless: Doesn't enforce strict schema definitions, providing adaptability for evolving data models.\n",
        "Dynamic querying: Supports rich querying capabilities using flexible operators and filters on document fields.\n",
        "Aggregation framework: Offers powerful tools for data manipulation, grouping, and summarization.\n",
        "Indexing: Enables efficient data retrieval based on specific fields.\n",
        "Replication: Supports data redundancy across multiple servers for high availability and fault tolerance.\n",
        "Sharding: Allows horizontal scaling by distributing data across multiple servers."
      ],
      "metadata": {
        "colab": {
          "base_uri": "https://localhost:8080/"
        },
        "id": "4Kfq1z9dl1XW",
        "outputId": "5e6dcd9e-23fd-4057-9941-3d09bd765841"
      },
      "execution_count": 1,
      "outputs": [
        {
          "output_type": "stream",
          "name": "stdout",
          "text": [
            "Custom exception caught: This is a custom exception.\n"
          ]
        }
      ]
    },
    {
      "cell_type": "code",
      "source": [
        "Q3. Write a code to connect MongoDB to Python. Also, create a database and a collection in MongoDB."
      ],
      "metadata": {
        "colab": {
          "base_uri": "https://localhost:8080/"
        },
        "id": "XvQ3L9kRl4cj",
        "outputId": "13fb9fe1-3da5-4d48-c55a-cd13917d0866"
      },
      "execution_count": 2,
      "outputs": [
        {
          "output_type": "stream",
          "name": "stdout",
          "text": [
            "Error: Division by zero is not allowed.\n",
            "None\n"
          ]
        }
      ]
    },
    {
      "cell_type": "code",
      "source": [
        "import pymongo\n",
        "\n",
        "# Replace with your MongoDB connection details\n",
        "client = pymongo.MongoClient(\"mongodb://localhost:27017/\")\n",
        "\n",
        "# Create a database\n",
        "db = client[\"my_database\"]\n",
        "\n",
        "# Create a collection\n",
        "collection = db[\"my_collection\"]\n"
      ],
      "metadata": {
        "id": "tP1dtgRkl6si"
      },
      "execution_count": 28,
      "outputs": []
    },
    {
      "cell_type": "code",
      "source": [
        "Q4. Using the database and the collection created in question number 3, write a code to insert one record,\n",
        " and insert many records. Use the find() and find_one() methods to print the inserted record."
      ],
      "metadata": {
        "id": "cfkt_3-2mk5a"
      },
      "execution_count": 12,
      "outputs": []
    },
    {
      "cell_type": "code",
      "source": [
        "# Insert a single record\n",
        "record = {\"name\": \"John Doe\", \"age\": 30, \"city\": \"New York\"}\n",
        "collection.insert_one(record)\n",
        "\n",
        "# Insert multiple records\n",
        "records = [\n",
        "    {\"name\": \"Jane Doe\", \"age\": 25, \"city\": \"Los Angeles\"},\n",
        "    {\"name\": \"Alice Smith\", \"age\": 40, \"city\": \"Chicago\"}\n",
        "]\n",
        "collection.insert_many(records)\n",
        "\n",
        "# Find the single record\n",
        "result = collection.find_one({\"name\": \"John Doe\"})\n",
        "print(result)\n",
        "\n",
        "# Find all documents\n",
        "results = collection.find({})\n",
        "for doc in results:\n",
        "    print(doc)\n"
      ],
      "metadata": {
        "id": "gpns9er2mncE"
      },
      "execution_count": 28,
      "outputs": []
    },
    {
      "cell_type": "code",
      "source": [
        "Q5. Explain how you can use the find() method to query the MongoDB database. Write a simple code to demonstrate this.\n",
        "\n",
        "The find() method retrieves documents from a collection based on specified criteria. You can use various operators and filters to narrow down the results."
      ],
      "metadata": {
        "colab": {
          "base_uri": "https://localhost:8080/"
        },
        "id": "xQ8WLO5bmn_X",
        "outputId": "1f9b9270-3550-4cdb-e9d7-ad06dbe99da7"
      },
      "execution_count": 19,
      "outputs": [
        {
          "output_type": "stream",
          "name": "stdout",
          "text": [
            "Collecting mysql-connector-python\n",
            "  Downloading mysql_connector_python-8.3.0-cp310-cp310-manylinux_2_17_x86_64.whl (21.5 MB)\n",
            "\u001b[2K     \u001b[90m━━━━━━━━━━━━━━━━━━━━━━━━━━━━━━━━━━━━━━━━\u001b[0m \u001b[32m21.5/21.5 MB\u001b[0m \u001b[31m48.8 MB/s\u001b[0m eta \u001b[36m0:00:00\u001b[0m\n",
            "\u001b[?25hInstalling collected packages: mysql-connector-python\n",
            "Successfully installed mysql-connector-python-8.3.0\n",
            "Error connecting to MySQL: 2003 (HY000): Can't connect to MySQL server on 'localhost:3306' (99)\n"
          ]
        }
      ]
    },
    {
      "cell_type": "code",
      "source": [
        "# Find all documents with age greater than 30\n",
        "results = collection.find({\"age\": {\"$gt\": 30}})\n",
        "for doc in results:\n",
        "    print(doc)\n"
      ],
      "metadata": {
        "id": "f7whXiy2DfuM"
      },
      "execution_count": 28,
      "outputs": []
    },
    {
      "cell_type": "code",
      "source": [
        "Q6. Explain the sort() method. Give an example to demonstrate sorting in MongoDB.\n",
        "\n",
        "The sort() method orders the results of a query based on one or more fields and sort direction (ascending or descending)."
      ],
      "metadata": {
        "id": "LVnKOoDEAzCR"
      },
      "execution_count": null,
      "outputs": []
    },
    {
      "cell_type": "code",
      "source": [
        "!pip install pymongo\n",
        "\n",
        "conda install -c anaconda pymongo\n",
        "\n",
        "\n",
        "import pymongo\n",
        "\n",
        "# Replace with your MongoDB connection details\n",
        "client = pymongo.MongoClient(\"mongodb://localhost:27017/\")\n",
        "\n",
        "# Create a database\n",
        "db = client[\"my_database\"]\n",
        "\n",
        "# Create a collection\n",
        "collection = db[\"my_collection\"]\n",
        "\n",
        "# Insert sample documents\n",
        "records = [\n",
        "    {\"name\": \"John Doe\", \"age\": 30},\n",
        "    {\"name\": \"Jane Doe\", \"age\": 25},\n",
        "    {\"name\": \"Alice Smith\", \"age\": 40}\n",
        "]\n",
        "collection.insert_many(records)\n",
        "\n",
        "# Sort and print documents by age in descending order\n",
        "results = collection.find({}).sort(\"age\", pymongo.DESCENDING)\n",
        "for doc in results:\n",
        "    print(doc)\n"
      ],
      "metadata": {
        "id": "txCbrJSNDtgQ"
      },
      "execution_count": 28,
      "outputs": []
    },
    {
      "cell_type": "code",
      "source": [
        "Q7. Explain why delete_one(), delete_many(), and drop() is used.\n",
        "\n",
        "delete_one(): Removes a single document that matches the given criteria.\n",
        "delete_many(): Deletes all documents that match the criteria.\n",
        "drop(): Deletes an entire collection.\n",
        "Use cases:\n",
        "\n",
        "delete_one(): When you need to remove a specific document by ID or other unique identifier.\n",
        "delete_many(): When you want to delete multiple documents based on certain conditions."
      ],
      "metadata": {
        "id": "PKtS1MaHDwXX"
      },
      "execution_count": null,
      "outputs": []
    }
  ]
}