{
  "nbformat": 4,
  "nbformat_minor": 0,
  "metadata": {
    "colab": {
      "provenance": [],
      "gpuType": "T4"
    },
    "kernelspec": {
      "name": "python3",
      "display_name": "Python 3"
    },
    "language_info": {
      "name": "python"
    },
    "accelerator": "GPU"
  },
  "cells": [
    {
      "cell_type": "code",
      "execution_count": null,
      "metadata": {
        "id": "4KQrvcjglL3G"
      },
      "outputs": [],
      "source": [
        "Question -1 -What is multithreading in Python? Why is it used? Name the module used to handle threads in Python. Why is the threading module used?\n",
        "\n",
        "Multithreading in Python refers to the ability of a program to run multiple threads concurrently. A thread is a lightweight process, and multithreading allows multiple tasks to be performed simultaneously within the same program.\n",
        "\n",
        "Multithreading is used to:\n",
        "\n",
        "Improve performance by utilizing multiple CPU cores effectively.\n",
        "Increase responsiveness by allowing a program to continue executing other tasks while waiting for I/O operations.\n",
        "Simplify code structure by dividing complex tasks into smaller, manageable threads.\n",
        "The module used to handle threads in Python is called threading. The threading module provides high-level threading interface and allows easy creation, management, and synchronization of threads.\n",
        "\n",
        "The threading module is preferred over the lower-level thread module because it provides a more robust and easy-to-use threading interface."
      ]
    },
    {
      "cell_type": "code",
      "source": [
        "Question-2- Why is the threading module used? Write the use of the following functions:\n",
        "\n",
        "activeCount: Returns the number of active Thread objects.\n",
        "currentThread: Returns the current Thread object.\n",
        "enumerate: Returns a list of all active Thread objects."
      ],
      "metadata": {
        "colab": {
          "base_uri": "https://localhost:8080/"
        },
        "id": "4Kfq1z9dl1XW",
        "outputId": "5e6dcd9e-23fd-4057-9941-3d09bd765841"
      },
      "execution_count": 1,
      "outputs": [
        {
          "output_type": "stream",
          "name": "stdout",
          "text": [
            "Custom exception caught: This is a custom exception.\n"
          ]
        }
      ]
    },
    {
      "cell_type": "code",
      "source": [
        "Question 3- Explain the following functions:\n",
        "\n",
        "run: Defines the entry point for the thread's activity. You should override this method in a subclass to define the code that will be executed in the thread.\n",
        "start: Starts the thread's activity by calling the run method.\n",
        "join: Blocks the calling thread until the thread whose join method is called terminates.\n",
        "isAlive: Returns True if the thread is alive (i.e., started but not yet terminated), otherwise returns False."
      ],
      "metadata": {
        "colab": {
          "base_uri": "https://localhost:8080/"
        },
        "id": "XvQ3L9kRl4cj",
        "outputId": "13fb9fe1-3da5-4d48-c55a-cd13917d0866"
      },
      "execution_count": 2,
      "outputs": [
        {
          "output_type": "stream",
          "name": "stdout",
          "text": [
            "Error: Division by zero is not allowed.\n",
            "None\n"
          ]
        }
      ]
    },
    {
      "cell_type": "code",
      "source": [
        "Question 4- Write a Python program to create two threads. Thread one must print the list of squares and thread two must print the list of cubes."
      ],
      "metadata": {
        "id": "tP1dtgRkl6si"
      },
      "execution_count": null,
      "outputs": []
    },
    {
      "cell_type": "code",
      "source": [
        "import threading\n",
        "\n",
        "def print_squares():\n",
        "    for i in range(1, 6):\n",
        "        print(f\"Square of {i}: {i*i}\")\n",
        "\n",
        "def print_cubes():\n",
        "    for i in range(1, 6):\n",
        "        print(f\"Cube of {i}: {i*i*i}\")\n",
        "\n",
        "# Creating threads\n",
        "thread1 = threading.Thread(target=print_squares)\n",
        "thread2 = threading.Thread(target=print_cubes)\n",
        "\n",
        "# Starting threads\n",
        "thread1.start()\n",
        "thread2.start()\n"
      ],
      "metadata": {
        "colab": {
          "base_uri": "https://localhost:8080/"
        },
        "id": "cfkt_3-2mk5a",
        "outputId": "9aee0d4b-26be-4b8a-8a93-8b4e4d2599e4"
      },
      "execution_count": 11,
      "outputs": [
        {
          "output_type": "stream",
          "name": "stdout",
          "text": [
            "Square of 1: 1Cube of 1: 1\n",
            "Cube of 2: 8\n",
            "Square of 2: 4\n",
            "Square of 3: 9\n",
            "Square of 4: 16\n",
            "Square of 5: 25\n",
            "\n",
            "Cube of 3: 27\n",
            "Cube of 4: 64\n",
            "Cube of 5: 125\n"
          ]
        }
      ]
    },
    {
      "cell_type": "code",
      "source": [
        "This program creates two threads: one to print the squares of numbers from 1 to 5, and another to print the cubes of numbers from 1 to 5.\n",
        "Both threads are started simultaneously and join the main thread after completion."
      ],
      "metadata": {
        "colab": {
          "base_uri": "https://localhost:8080/"
        },
        "id": "gpns9er2mncE",
        "outputId": "c8d6847e-e2d4-46f2-e756-221f4269f4e7"
      },
      "execution_count": 3,
      "outputs": [
        {
          "output_type": "stream",
          "name": "stdout",
          "text": [
            "Enter a number: 4\n",
            "Result: 2.5\n",
            "Execution complete.\n"
          ]
        }
      ]
    },
    {
      "cell_type": "code",
      "source": [
        "5. Advantages and disadvantages of multithreading:\n",
        "\n",
        "Advantages:\n",
        "\n",
        "Improved performance by utilizing multiple CPU cores simultaneously.\n",
        "Responsiveness: Multithreading allows handling of multiple tasks concurrently, leading to better responsiveness in applications such as GUIs and servers.\n",
        "Resource sharing: Threads within the same process can share resources like memory, files, and sockets.\n",
        "Disadvantages:\n",
        "\n",
        "Complexity: Multithreading introduces complexity due to issues like race conditions, deadlocks, and synchronization.\n",
        "Debugging: Debugging multithreaded programs can be challenging due to non-deterministic behavior caused by thread scheduling.\n",
        "Overhead: Creating and managing threads have overhead costs in terms of memory and CPU resources.\n"
      ],
      "metadata": {
        "id": "xQ8WLO5bmn_X"
      },
      "execution_count": 3,
      "outputs": []
    },
    {
      "cell_type": "code",
      "source": [
        "6. Explanation of deadlocks and race conditions:\n",
        "\n",
        "Deadlocks: Deadlocks occur when two or more threads are waiting indefinitely for each other to release resources.\n",
        "This situation arises when multiple threads hold locks on resources and are waiting for each other to release the locks, resulting in a circular dependency.\n",
        "\n",
        "Race conditions: Race conditions occur when the outcome of a program depends on the timing or interleaving of multiple threads. This can lead to unpredictable behavior\n",
        "and incorrect results because the order of execution of threads is not guaranteed. Race conditions often occur when multiple threads access shared resources without proper synchronization."
      ],
      "metadata": {
        "colab": {
          "base_uri": "https://localhost:8080/"
        },
        "id": "4siejTQhmxGJ",
        "outputId": "3b89a0fa-f41e-424e-82a9-3878361e93c7"
      },
     
