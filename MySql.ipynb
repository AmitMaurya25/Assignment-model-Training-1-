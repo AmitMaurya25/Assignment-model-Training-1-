{
  "nbformat": 4,
  "nbformat_minor": 0,
  "metadata": {
    "colab": {
      "provenance": [],
      "toc_visible": true,
      "gpuType": "T4"
    },
    "kernelspec": {
      "name": "python3",
      "display_name": "Python 3"
    },
    "language_info": {
      "name": "python"
    },
    "accelerator": "GPU"
  },
  "cells": [
    {
      "cell_type": "code",
      "execution_count": null,
      "metadata": {
        "id": "4KQrvcjglL3G"
      },
      "outputs": [],
      "source": [
        "Q1. What is a database? Differentiate between SQL and NoSQL databases.\n",
        "\n",
        "Database: A structured collection of data organized for efficient retrieval, storage, and management. It's analogous to a digital filing cabinet.\n",
        "\n",
        "SQL Databases (Structured Query Language): Store data in relational tables with rows (records) and columns (attributes). Enforce schema (structure) with data types and constraints,\n",
        "ensuring data integrity and consistency. Well-suited for structured, predictable data with complex relationships. Examples: MySQL, PostgreSQL, Oracle.\n",
        "\n",
        "NoSQL Databases (Non-relational): Offer flexible data models that can accommodate various data types and structures (documents, key-value, graph). Ideal for large volumes of unstructured or semi-structured data, scaling, and performance. Examples: MongoDB, Cassandra, Redis."
      ]
    },
    {
      "cell_type": "code",
      "source": [
        "Q2. What is DDL? Explain why CREATE, DROP, ALTER, and TRUNCATE are used with an example.\n",
        "\n",
        "DDL (Data Definition Language): Used to define and manipulate the structure of database objects like tables, views, indexes.\n",
        "CREATE: Creates new database objects. Example: CREATE TABLE customers (id INT PRIMARY KEY, name VARCHAR(255), email VARCHAR(255))\n",
        "DROP: Deletes existing database objects. Example: DROP TABLE customers (use cautiously!)\n",
        "ALTER: Modifies existing database objects' structure (adding/removing columns, changing data types). Example: ALTER TABLE customers ADD age INT\n",
        "TRUNCATE: Removes all rows from a table, preserving the table structure. Example: TRUNCATE TABLE customers (faster than DELETE, but cannot be undone)"
      ],
      "metadata": {
        "colab": {
          "base_uri": "https://localhost:8080/"
        },
        "id": "4Kfq1z9dl1XW",
        "outputId": "5e6dcd9e-23fd-4057-9941-3d09bd765841"
      },
      "execution_count": 1,
      "outputs": [
        {
          "output_type": "stream",
          "name": "stdout",
          "text": [
            "Custom exception caught: This is a custom exception.\n"
          ]
        }
      ]
    },
    {
      "cell_type": "code",
      "source": [
        "Q3. What is DML? Explain INSERT, UPDATE, and DELETE with an example.\n",
        "\n",
        "DML (Data Manipulation Language): Used to insert, modify, and delete data within database tables.\n",
        "INSERT: Adds new rows to a table. Example: INSERT INTO customers (name, email) VALUES ('John Doe', 'johndoe@example.com')\n",
        "UPDATE: Modifies existing rows in a table. Example: UPDATE customers SET email = 'janedoe@example.com' WHERE id = 1\n",
        "DELETE: Removes rows from a table. Example: DELETE FROM customers WHERE email = 'johndoe@example.com'"
      ],
      "metadata": {
        "colab": {
          "base_uri": "https://localhost:8080/"
        },
        "id": "XvQ3L9kRl4cj",
        "outputId": "13fb9fe1-3da5-4d48-c55a-cd13917d0866"
      },
      "execution_count": 2,
      "outputs": [
        {
          "output_type": "stream",
          "name": "stdout",
          "text": [
            "Error: Division by zero is not allowed.\n",
            "None\n"
          ]
        }
      ]
    },
    {
      "cell_type": "code",
      "source": [
        "Q4. What is DQL? Explain SELECT with an example.\n",
        "\n",
        "DQL (Data Query Language): Used to retrieve data from database tables.\n",
        "SELECT: Retrieves specific columns and/or rows from a table. Example: SELECT name, email FROM customers"
      ],
      "metadata": {
        "colab": {
          "base_uri": "https://localhost:8080/"
        },
        "id": "tP1dtgRkl6si",
        "outputId": "fa139e19-3785-4e50-c40d-04fc9ed956fa"
      },
      "execution_count": 12,
      "outputs": [
        {
          "output_type": "stream",
          "name": "stdout",
          "text": [
            "Child process running.\n"
          ]
        }
      ]
    },
    {
      "cell_type": "code",
      "source": [
        "Q5. Explain Primary Key and Foreign Key.\n",
        "\n",
        "Primary Key: Uniquely identifies each row in a table (like a social security number), enforcing data integrity.\n",
        "Can be single or composite (multiple columns).\n",
        "\n",
        "Foreign Key: References the primary key of another table, establishing relationships between tables. Enforces referential integrity.\n",
        "Example: orders TABLE has a foreign key 'customer_id' that references the 'id' primary key in the 'customers' TABLE."
      ],
      "metadata": {
        "id": "cfkt_3-2mk5a"
      },
      "execution_count": 12,
      "outputs": []
    },
    {
      "cell_type": "code",
      "source": [
        "Q6. Write a Python code to connect MySQL to Python. Explain the cursor() and execute() method.\n",
        "\n",
        "Assuming you have the mysql-connector-python module installed:"
      ],
      "metadata": {
        "id": "gpns9er2mncE"
      },
      "execution_count": 13,
      "outputs": []
    },
    {
      "cell_type": "code",
      "source": [
        "!pip install mysql-connector-python\n",
        "\n",
        "import mysql.connector\n",
        "\n",
        "\n",
        "\n",
        "import mysql.connector\n",
        "\n",
        "# Database connection details\n",
        "db_host = \"localhost\"\n",
        "db_user = \"your_username\"\n",
        "db_password = \"your_password\"\n",
        "db_name = \"your_database\"\n",
        "\n",
        "# Connect to MySQL\n",
        "try:\n",
        "    connection = mysql.connector.connect(\n",
        "        host=db_host,\n",
        "        user=db_user,\n",
        "        password=db_password,\n",
        "        database=db_name\n",
        "    )\n",
        "    print(\"Connection successful!\")\n",
        "\n",
        "    # Create a cursor object\n",
        "    cursor = connection.cursor()\n",
        "\n",
        "    # Execute a query (example: SELECT)\n",
        "    cursor.execute(\"SELECT * FROM customers\")\n",
        "\n",
        "    # Fetch results\n",
        "    results = cursor.fetchall()\n",
        "\n",
        "    # Process results\n",
        "    for row in results:\n",
        "        print(row)\n",
        "\n",
        "    # Close the connection\n",
        "    connection.close()\n",
        "    print(\"Connection closed.\")\n",
        "\n",
        "except mysql.connector.Error as err:\n",
        "    print(\"Error connecting to MySQL:\", err)\n"
      ],
      "metadata": {
        "colab": {
          "base_uri": "https://localhost:8080/"
        },
        "id": "xQ8WLO5bmn_X",
        "outputId": "1f9b9270-3550-4cdb-e9d7-ad06dbe99da7"
      },
      "execution_count": 19,
      "outputs": [
        {
          "output_type": "stream",
          "name": "stdout",
          "text": [
            "Collecting mysql-connector-python\n",
            "  Downloading mysql_connector_python-8.3.0-cp310-cp310-manylinux_2_17_x86_64.whl (21.5 MB)\n",
            "\u001b[2K     \u001b[90m━━━━━━━━━━━━━━━━━━━━━━━━━━━━━━━━━━━━━━━━\u001b[0m \u001b[32m21.5/21.5 MB\u001b[0m \u001b[31m48.8 MB/s\u001b[0m eta \u001b[36m0:00:00\u001b[0m\n",
            "\u001b[?25hInstalling collected packages: mysql-connector-python\n",
            "Successfully installed mysql-connector-python-8.3.0\n",
            "Error connecting to MySQL: 2003 (HY000): Can't connect to MySQL server on 'localhost:3306' (99)\n"
          ]
        }
      ]
    },
    {
      "cell_type": "code",
      "source": [],
      "metadata": {
        "id": "LVnKOoDEAzCR"
      },
      "execution_count": null,
      "outputs": []
    }
  ]
}